{
 "cells": [
  {
   "cell_type": "code",
   "execution_count": 1,
   "id": "commercial-county",
   "metadata": {
    "_cell_guid": "b1076dfc-b9ad-4769-8c92-a6c4dae69d19",
    "_uuid": "8f2839f25d086af736a60e9eeb907d3b93b6e0e5",
    "execution": {
     "iopub.execute_input": "2021-05-17T19:56:30.026659Z",
     "iopub.status.busy": "2021-05-17T19:56:30.026013Z",
     "iopub.status.idle": "2021-05-17T19:56:30.056392Z",
     "shell.execute_reply": "2021-05-17T19:56:30.055851Z"
    },
    "papermill": {
     "duration": 0.06464,
     "end_time": "2021-05-17T19:56:30.056524",
     "exception": false,
     "start_time": "2021-05-17T19:56:29.991884",
     "status": "completed"
    },
    "tags": []
   },
   "outputs": [
    {
     "name": "stdout",
     "output_type": "stream",
     "text": [
      "/kaggle/input/results/model_last.hdf5\n",
      "/kaggle/input/results/best_model.hdf5\n",
      "/kaggle/input/results/submission.csv\n",
      "/kaggle/input/results/car/submission1.csv\n",
      "/kaggle/input/sf-dl-car-classification/train.zip\n",
      "/kaggle/input/sf-dl-car-classification/sample-submission.csv\n",
      "/kaggle/input/sf-dl-car-classification/test.zip\n",
      "/kaggle/input/sf-dl-car-classification/train.csv\n",
      "/kaggle/input/efficientnet-keras-noisystudent-weights-b0b7/efficientnet-b2_noisy-student_notop.h5\n",
      "/kaggle/input/efficientnet-keras-noisystudent-weights-b0b7/efficientnet-b1_noisy-student_notop.h5\n",
      "/kaggle/input/efficientnet-keras-noisystudent-weights-b0b7/efficientnet-b3_noisy-student_notop.h5\n",
      "/kaggle/input/efficientnet-keras-noisystudent-weights-b0b7/efficientnet-b7_noisy-student_notop.h5\n",
      "/kaggle/input/efficientnet-keras-noisystudent-weights-b0b7/efficientnet-b0_noisy-student_notop.h5\n",
      "/kaggle/input/efficientnet-keras-noisystudent-weights-b0b7/efficientnet-b6_noisy-student_notop.h5\n",
      "/kaggle/input/efficientnet-keras-noisystudent-weights-b0b7/efficientnet-b4_noisy-student_notop.h5\n",
      "/kaggle/input/efficientnet-keras-noisystudent-weights-b0b7/efficientnet-b5_noisy-student_notop.h5\n",
      "/kaggle/input/model-base/best_model.hdf5\n"
     ]
    }
   ],
   "source": [
    "# This Python 3 environment comes with many helpful analytics libraries installed\n",
    "# It is defined by the kaggle/python Docker image: https://github.com/kaggle/docker-python\n",
    "# For example, here's several helpful packages to load\n",
    "\n",
    "import numpy as np # linear algebra\n",
    "import pandas as pd # data processing, CSV file I/O (e.g. pd.read_csv)\n",
    "\n",
    "# Input data files are available in the read-only \"../input/\" directory\n",
    "# For example, running this (by clicking run or pressing Shift+Enter) will list all files under the input directory\n",
    "\n",
    "import os\n",
    "for dirname, _, filenames in os.walk('/kaggle/input'):\n",
    "    for filename in filenames:\n",
    "        print(os.path.join(dirname, filename))\n",
    "\n",
    "# You can write up to 20GB to the current directory (/kaggle/working/) that gets preserved as output when you create a version using \"Save & Run All\" \n",
    "# You can also write temporary files to /kaggle/temp/, but they won't be saved outside of the current session"
   ]
  },
  {
   "cell_type": "code",
   "execution_count": 2,
   "id": "substantial-picnic",
   "metadata": {
    "execution": {
     "iopub.execute_input": "2021-05-17T19:56:30.108589Z",
     "iopub.status.busy": "2021-05-17T19:56:30.108074Z",
     "iopub.status.idle": "2021-05-17T19:56:30.783140Z",
     "shell.execute_reply": "2021-05-17T19:56:30.782599Z"
    },
    "papermill": {
     "duration": 0.70262,
     "end_time": "2021-05-17T19:56:30.783295",
     "exception": false,
     "start_time": "2021-05-17T19:56:30.080675",
     "status": "completed"
    },
    "tags": []
   },
   "outputs": [
    {
     "name": "stdout",
     "output_type": "stream",
     "text": [
      "Mon May 17 19:56:30 2021       \r\n",
      "+-----------------------------------------------------------------------------+\r\n",
      "| NVIDIA-SMI 450.51.06    Driver Version: 450.51.06    CUDA Version: 11.0     |\r\n",
      "|-------------------------------+----------------------+----------------------+\r\n",
      "| GPU  Name        Persistence-M| Bus-Id        Disp.A | Volatile Uncorr. ECC |\r\n",
      "| Fan  Temp  Perf  Pwr:Usage/Cap|         Memory-Usage | GPU-Util  Compute M. |\r\n",
      "|                               |                      |               MIG M. |\r\n",
      "|===============================+======================+======================|\r\n",
      "|   0  Tesla P100-PCIE...  Off  | 00000000:00:04.0 Off |                    0 |\r\n",
      "| N/A   38C    P0    27W / 250W |      0MiB / 16280MiB |      0%      Default |\r\n",
      "|                               |                      |                  N/A |\r\n",
      "+-------------------------------+----------------------+----------------------+\r\n",
      "                                                                               \r\n",
      "+-----------------------------------------------------------------------------+\r\n",
      "| Processes:                                                                  |\r\n",
      "|  GPU   GI   CI        PID   Type   Process name                  GPU Memory |\r\n",
      "|        ID   ID                                                   Usage      |\r\n",
      "|=============================================================================|\r\n",
      "|  No running processes found                                                 |\r\n",
      "+-----------------------------------------------------------------------------+\r\n"
     ]
    }
   ],
   "source": [
    "!nvidia-smi"
   ]
  },
  {
   "cell_type": "code",
   "execution_count": 3,
   "id": "understanding-lying",
   "metadata": {
    "execution": {
     "iopub.execute_input": "2021-05-17T19:56:30.848548Z",
     "iopub.status.busy": "2021-05-17T19:56:30.847990Z",
     "iopub.status.idle": "2021-05-17T19:56:36.394687Z",
     "shell.execute_reply": "2021-05-17T19:56:36.395309Z"
    },
    "papermill": {
     "duration": 5.58728,
     "end_time": "2021-05-17T19:56:36.395476",
     "exception": false,
     "start_time": "2021-05-17T19:56:30.808196",
     "status": "completed"
    },
    "tags": []
   },
   "outputs": [
    {
     "name": "stdout",
     "output_type": "stream",
     "text": [
      "['results', 'sf-dl-car-classification', 'efficientnet-keras-noisystudent-weights-b0b7', 'model-base']\n",
      "Python       : 3.7.10 | packaged by conda-forge | (default, Feb 19 2021, 16:07:37) \n",
      "Numpy        : 1.19.5\n",
      "Tensorflow   : 2.4.1\n",
      "Keras        : 2.4.0\n"
     ]
    }
   ],
   "source": [
    "import numpy as np\n",
    "import pandas as pd\n",
    "import matplotlib.pyplot as plt\n",
    "import seaborn as sns\n",
    "import pickle\n",
    "import zipfile\n",
    "import csv\n",
    "import sys\n",
    "import os\n",
    "\n",
    "\n",
    "import tensorflow as tf\n",
    "from tensorflow.keras.preprocessing import image\n",
    "from tensorflow.keras.preprocessing.image import ImageDataGenerator\n",
    "from tensorflow.keras.callbacks import LearningRateScheduler, ModelCheckpoint\n",
    "from tensorflow.keras.callbacks import Callback, ReduceLROnPlateau, EarlyStopping\n",
    "from tensorflow.keras.regularizers import l2\n",
    "from tensorflow.keras import optimizers\n",
    "\n",
    "from tensorflow.keras.models import Model\n",
    "import tensorflow.keras.models as Model\n",
    "from tensorflow.keras.layers import *\n",
    "import tensorflow.keras.layers as layers\n",
    "\n",
    "from tensorflow.keras.applications.xception import Xception\n",
    "\n",
    "\n",
    "from sklearn.model_selection import train_test_split, StratifiedKFold\n",
    "\n",
    "import PIL\n",
    "from PIL import ImageOps, ImageFilter\n",
    "\n",
    "#увеличим дефолтный размер графиков\n",
    "from pylab import rcParams\n",
    "rcParams['figure.figsize'] = 10, 5\n",
    "\n",
    "#графики в svg выглядят более четкими\n",
    "%config InlineBackend.figure_format = 'svg' \n",
    "%matplotlib inline\n",
    "\n",
    "print(os.listdir(\"../input\"))\n",
    "print('Python       :', sys.version.split('\\n')[0])\n",
    "print('Numpy        :', np.__version__)\n",
    "print('Tensorflow   :', tf.__version__)\n",
    "print('Keras        :', tf.keras.__version__)"
   ]
  },
  {
   "cell_type": "code",
   "execution_count": 4,
   "id": "transsexual-bracelet",
   "metadata": {
    "execution": {
     "iopub.execute_input": "2021-05-17T19:56:36.449814Z",
     "iopub.status.busy": "2021-05-17T19:56:36.449035Z",
     "iopub.status.idle": "2021-05-17T19:56:36.451601Z",
     "shell.execute_reply": "2021-05-17T19:56:36.452049Z"
    },
    "papermill": {
     "duration": 0.031842,
     "end_time": "2021-05-17T19:56:36.452174",
     "exception": false,
     "start_time": "2021-05-17T19:56:36.420332",
     "status": "completed"
    },
    "tags": []
   },
   "outputs": [],
   "source": [
    "# В setup выносим основные настройки: так удобнее их перебирать в дальнейшем.\n",
    "\n",
    "EPOCHS               = 10  # эпох на обучение\n",
    "BATCH_SIZE           = 16 # уменьшаем batch если сеть большая, иначе не влезет в память на GPU\n",
    "LR                   = 1e-4\n",
    "VAL_SPLIT            = 0.15 # сколько данных выделяем на тест = 15%\n",
    "\n",
    "CLASS_NUM            = 10  # количество классов в нашей задаче\n",
    "IMG_SIZE             = 260 # какого размера подаем изображения в сеть\n",
    "IMG_CHANNELS         = 3   # у RGB 3 канала\n",
    "input_shape          = (IMG_SIZE, IMG_SIZE, IMG_CHANNELS)\n",
    "\n",
    "DATA_PATH = '../input/sf-dl-car-classification/'\n",
    "PATH = \"../working/car/\" # рабочая директория\n",
    "RANDOM_SEED = 42\n",
    "ratio = 640/480"
   ]
  },
  {
   "cell_type": "code",
   "execution_count": 5,
   "id": "addressed-wheel",
   "metadata": {
    "execution": {
     "iopub.execute_input": "2021-05-17T19:56:36.504743Z",
     "iopub.status.busy": "2021-05-17T19:56:36.504135Z",
     "iopub.status.idle": "2021-05-17T19:56:59.741240Z",
     "shell.execute_reply": "2021-05-17T19:56:59.741918Z"
    },
    "papermill": {
     "duration": 23.265698,
     "end_time": "2021-05-17T19:56:59.742093",
     "exception": false,
     "start_time": "2021-05-17T19:56:36.476395",
     "status": "completed"
    },
    "tags": []
   },
   "outputs": [
    {
     "name": "stdout",
     "output_type": "stream",
     "text": [
      "Распаковываем картинки\n",
      "['test_upload', 'train']\n"
     ]
    }
   ],
   "source": [
    "print('Распаковываем картинки')\n",
    "# Will unzip the files so that you can see them..\n",
    "for data_zip in ['train.zip', 'test.zip']:\n",
    "    with zipfile.ZipFile(DATA_PATH+data_zip,\"r\") as z:\n",
    "        z.extractall(PATH)\n",
    "        \n",
    "print(os.listdir(PATH))"
   ]
  },
  {
   "cell_type": "code",
   "execution_count": 6,
   "id": "republican-nurse",
   "metadata": {
    "execution": {
     "iopub.execute_input": "2021-05-17T19:56:59.800903Z",
     "iopub.status.busy": "2021-05-17T19:56:59.800283Z",
     "iopub.status.idle": "2021-05-17T19:57:00.102823Z",
     "shell.execute_reply": "2021-05-17T19:57:00.103296Z"
    },
    "papermill": {
     "duration": 0.336181,
     "end_time": "2021-05-17T19:57:00.103453",
     "exception": false,
     "start_time": "2021-05-17T19:56:59.767272",
     "status": "completed"
    },
    "tags": []
   },
   "outputs": [
    {
     "name": "stdout",
     "output_type": "stream",
     "text": [
      "Пример картинок\n"
     ]
    },
    {
     "ename": "NameError",
     "evalue": "name 'train_df' is not defined",
     "output_type": "error",
     "traceback": [
      "\u001b[0;31m---------------------------------------------------------------------------\u001b[0m",
      "\u001b[0;31mNameError\u001b[0m                                 Traceback (most recent call last)",
      "\u001b[0;32m<ipython-input-6-7356c4828ca3>\u001b[0m in \u001b[0;36m<module>\u001b[0;34m\u001b[0m\n\u001b[1;32m      3\u001b[0m \u001b[0mplt\u001b[0m\u001b[0;34m.\u001b[0m\u001b[0mfigure\u001b[0m\u001b[0;34m(\u001b[0m\u001b[0mfigsize\u001b[0m\u001b[0;34m=\u001b[0m\u001b[0;34m(\u001b[0m\u001b[0;36m12\u001b[0m\u001b[0;34m,\u001b[0m\u001b[0;36m8\u001b[0m\u001b[0;34m)\u001b[0m\u001b[0;34m)\u001b[0m\u001b[0;34m\u001b[0m\u001b[0;34m\u001b[0m\u001b[0m\n\u001b[1;32m      4\u001b[0m \u001b[0;34m\u001b[0m\u001b[0m\n\u001b[0;32m----> 5\u001b[0;31m \u001b[0mrandom_image\u001b[0m \u001b[0;34m=\u001b[0m \u001b[0mtrain_df\u001b[0m\u001b[0;34m.\u001b[0m\u001b[0msample\u001b[0m\u001b[0;34m(\u001b[0m\u001b[0mn\u001b[0m\u001b[0;34m=\u001b[0m\u001b[0;36m9\u001b[0m\u001b[0;34m)\u001b[0m\u001b[0;34m\u001b[0m\u001b[0;34m\u001b[0m\u001b[0m\n\u001b[0m\u001b[1;32m      6\u001b[0m \u001b[0mrandom_image_paths\u001b[0m \u001b[0;34m=\u001b[0m \u001b[0mrandom_image\u001b[0m\u001b[0;34m[\u001b[0m\u001b[0;34m'Id'\u001b[0m\u001b[0;34m]\u001b[0m\u001b[0;34m.\u001b[0m\u001b[0mvalues\u001b[0m\u001b[0;34m\u001b[0m\u001b[0;34m\u001b[0m\u001b[0m\n\u001b[1;32m      7\u001b[0m \u001b[0mrandom_image_cat\u001b[0m \u001b[0;34m=\u001b[0m \u001b[0mrandom_image\u001b[0m\u001b[0;34m[\u001b[0m\u001b[0;34m'Category'\u001b[0m\u001b[0;34m]\u001b[0m\u001b[0;34m.\u001b[0m\u001b[0mvalues\u001b[0m\u001b[0;34m\u001b[0m\u001b[0;34m\u001b[0m\u001b[0m\n",
      "\u001b[0;31mNameError\u001b[0m: name 'train_df' is not defined"
     ]
    },
    {
     "data": {
      "text/plain": [
       "<Figure size 864x576 with 0 Axes>"
      ]
     },
     "metadata": {},
     "output_type": "display_data"
    }
   ],
   "source": [
    "#посмотрим пример картинок\n",
    "print('Пример картинок')\n",
    "plt.figure(figsize=(12,8))\n",
    "\n",
    "random_image = train_df.sample(n=9)\n",
    "random_image_paths = random_image['Id'].values\n",
    "random_image_cat = random_image['Category'].values\n",
    "\n",
    "for index, path in enumerate(random_image_paths):\n",
    "    im = PIL.Image.open(DATA_PATH+f'train/train/{random_image_cat[index]}/{path}')\n",
    "    plt.subplot(3,3, index+1)\n",
    "    plt.imshow(im)\n",
    "    plt.title('Class: '+str(random_image_cat[index]))\n",
    "    plt.axis('off')\n",
    "plt.show()"
   ]
  },
  {
   "cell_type": "code",
   "execution_count": 7,
   "id": "rational-appendix",
   "metadata": {
    "execution": {
     "iopub.execute_input": "2021-05-17T19:57:00.158626Z",
     "iopub.status.busy": "2021-05-17T19:57:00.158125Z",
     "iopub.status.idle": "2021-05-17T19:57:00.181775Z",
     "shell.execute_reply": "2021-05-17T19:57:00.182451Z"
    },
    "papermill": {
     "duration": 0.053213,
     "end_time": "2021-05-17T19:57:00.182596",
     "exception": false,
     "start_time": "2021-05-17T19:57:00.129383",
     "status": "completed"
    },
    "tags": []
   },
   "outputs": [
    {
     "ename": "FileNotFoundError",
     "evalue": "[Errno 2] No such file or directory: '../input/sf-dl-car-classification/train/train/0/100380.jpg'",
     "output_type": "error",
     "traceback": [
      "\u001b[0;31m---------------------------------------------------------------------------\u001b[0m",
      "\u001b[0;31mFileNotFoundError\u001b[0m                         Traceback (most recent call last)",
      "\u001b[0;32m<ipython-input-7-1d7c70af4965>\u001b[0m in \u001b[0;36m<module>\u001b[0;34m\u001b[0m\n\u001b[1;32m      1\u001b[0m \u001b[0;31m#посмотрим на размер картинок\u001b[0m\u001b[0;34m\u001b[0m\u001b[0;34m\u001b[0m\u001b[0;34m\u001b[0m\u001b[0m\n\u001b[0;32m----> 2\u001b[0;31m \u001b[0mimage\u001b[0m \u001b[0;34m=\u001b[0m \u001b[0mPIL\u001b[0m\u001b[0;34m.\u001b[0m\u001b[0mImage\u001b[0m\u001b[0;34m.\u001b[0m\u001b[0mopen\u001b[0m\u001b[0;34m(\u001b[0m\u001b[0mDATA_PATH\u001b[0m\u001b[0;34m+\u001b[0m\u001b[0;34mf'train/train/0/100380.jpg'\u001b[0m\u001b[0;34m)\u001b[0m\u001b[0;34m\u001b[0m\u001b[0;34m\u001b[0m\u001b[0m\n\u001b[0m\u001b[1;32m      3\u001b[0m \u001b[0mimgplot\u001b[0m \u001b[0;34m=\u001b[0m \u001b[0mplt\u001b[0m\u001b[0;34m.\u001b[0m\u001b[0mimshow\u001b[0m\u001b[0;34m(\u001b[0m\u001b[0mimage\u001b[0m\u001b[0;34m)\u001b[0m\u001b[0;34m\u001b[0m\u001b[0;34m\u001b[0m\u001b[0m\n\u001b[1;32m      4\u001b[0m \u001b[0mplt\u001b[0m\u001b[0;34m.\u001b[0m\u001b[0mshow\u001b[0m\u001b[0;34m(\u001b[0m\u001b[0;34m)\u001b[0m\u001b[0;34m\u001b[0m\u001b[0;34m\u001b[0m\u001b[0m\n\u001b[1;32m      5\u001b[0m \u001b[0mimage\u001b[0m\u001b[0;34m.\u001b[0m\u001b[0msize\u001b[0m\u001b[0;34m\u001b[0m\u001b[0;34m\u001b[0m\u001b[0m\n",
      "\u001b[0;32m/opt/conda/lib/python3.7/site-packages/PIL/Image.py\u001b[0m in \u001b[0;36mopen\u001b[0;34m(fp, mode)\u001b[0m\n\u001b[1;32m   2876\u001b[0m \u001b[0;34m\u001b[0m\u001b[0m\n\u001b[1;32m   2877\u001b[0m     \u001b[0;32mif\u001b[0m \u001b[0mfilename\u001b[0m\u001b[0;34m:\u001b[0m\u001b[0;34m\u001b[0m\u001b[0;34m\u001b[0m\u001b[0m\n\u001b[0;32m-> 2878\u001b[0;31m         \u001b[0mfp\u001b[0m \u001b[0;34m=\u001b[0m \u001b[0mbuiltins\u001b[0m\u001b[0;34m.\u001b[0m\u001b[0mopen\u001b[0m\u001b[0;34m(\u001b[0m\u001b[0mfilename\u001b[0m\u001b[0;34m,\u001b[0m \u001b[0;34m\"rb\"\u001b[0m\u001b[0;34m)\u001b[0m\u001b[0;34m\u001b[0m\u001b[0;34m\u001b[0m\u001b[0m\n\u001b[0m\u001b[1;32m   2879\u001b[0m         \u001b[0mexclusive_fp\u001b[0m \u001b[0;34m=\u001b[0m \u001b[0;32mTrue\u001b[0m\u001b[0;34m\u001b[0m\u001b[0;34m\u001b[0m\u001b[0m\n\u001b[1;32m   2880\u001b[0m \u001b[0;34m\u001b[0m\u001b[0m\n",
      "\u001b[0;31mFileNotFoundError\u001b[0m: [Errno 2] No such file or directory: '../input/sf-dl-car-classification/train/train/0/100380.jpg'"
     ]
    }
   ],
   "source": [
    "#посмотрим на размер картинок\n",
    "image = PIL.Image.open(DATA_PATH+f'train/train/0/100380.jpg')\n",
    "imgplot = plt.imshow(image)\n",
    "plt.show()\n",
    "image.size"
   ]
  },
  {
   "cell_type": "code",
   "execution_count": 8,
   "id": "commercial-there",
   "metadata": {
    "execution": {
     "iopub.execute_input": "2021-05-17T19:57:00.306357Z",
     "iopub.status.busy": "2021-05-17T19:57:00.305439Z",
     "iopub.status.idle": "2021-05-17T19:57:00.309439Z",
     "shell.execute_reply": "2021-05-17T19:57:00.308688Z"
    },
    "papermill": {
     "duration": 0.087377,
     "end_time": "2021-05-17T19:57:00.309632",
     "exception": false,
     "start_time": "2021-05-17T19:57:00.222255",
     "status": "completed"
    },
    "tags": []
   },
   "outputs": [],
   "source": [
    "# код для копированич модели обученной ранее\n",
    "# from distutils.dir_util import copy_tree\n",
    "# copy_tree('../input/results/', PATH)"
   ]
  },
  {
   "cell_type": "code",
   "execution_count": 9,
   "id": "iraqi-start",
   "metadata": {
    "execution": {
     "iopub.execute_input": "2021-05-17T19:57:00.476241Z",
     "iopub.status.busy": "2021-05-17T19:57:00.475281Z",
     "iopub.status.idle": "2021-05-17T19:57:00.562630Z",
     "shell.execute_reply": "2021-05-17T19:57:00.563367Z"
    },
    "papermill": {
     "duration": 0.179223,
     "end_time": "2021-05-17T19:57:00.563628",
     "exception": false,
     "start_time": "2021-05-17T19:57:00.384405",
     "status": "completed"
    },
    "tags": []
   },
   "outputs": [
    {
     "data": {
      "text/html": [
       "<div>\n",
       "<style scoped>\n",
       "    .dataframe tbody tr th:only-of-type {\n",
       "        vertical-align: middle;\n",
       "    }\n",
       "\n",
       "    .dataframe tbody tr th {\n",
       "        vertical-align: top;\n",
       "    }\n",
       "\n",
       "    .dataframe thead th {\n",
       "        text-align: right;\n",
       "    }\n",
       "</style>\n",
       "<table border=\"1\" class=\"dataframe\">\n",
       "  <thead>\n",
       "    <tr style=\"text-align: right;\">\n",
       "      <th></th>\n",
       "      <th>Id</th>\n",
       "      <th>Category</th>\n",
       "    </tr>\n",
       "  </thead>\n",
       "  <tbody>\n",
       "    <tr>\n",
       "      <th>0</th>\n",
       "      <td>100155.jpg</td>\n",
       "      <td>0</td>\n",
       "    </tr>\n",
       "    <tr>\n",
       "      <th>1</th>\n",
       "      <td>100306.jpg</td>\n",
       "      <td>0</td>\n",
       "    </tr>\n",
       "    <tr>\n",
       "      <th>2</th>\n",
       "      <td>100379.jpg</td>\n",
       "      <td>0</td>\n",
       "    </tr>\n",
       "    <tr>\n",
       "      <th>3</th>\n",
       "      <td>100380.jpg</td>\n",
       "      <td>0</td>\n",
       "    </tr>\n",
       "    <tr>\n",
       "      <th>4</th>\n",
       "      <td>100389.jpg</td>\n",
       "      <td>0</td>\n",
       "    </tr>\n",
       "  </tbody>\n",
       "</table>\n",
       "</div>"
      ],
      "text/plain": [
       "           Id  Category\n",
       "0  100155.jpg         0\n",
       "1  100306.jpg         0\n",
       "2  100379.jpg         0\n",
       "3  100380.jpg         0\n",
       "4  100389.jpg         0"
      ]
     },
     "execution_count": 9,
     "metadata": {},
     "output_type": "execute_result"
    }
   ],
   "source": [
    "train_df = pd.read_csv(DATA_PATH+\"train.csv\")\n",
    "sample_submission = pd.read_csv(DATA_PATH+\"sample-submission.csv\")\n",
    "train_df.head()"
   ]
  },
  {
   "cell_type": "code",
   "execution_count": 10,
   "id": "grateful-entry",
   "metadata": {
    "execution": {
     "iopub.execute_input": "2021-05-17T19:57:00.734555Z",
     "iopub.status.busy": "2021-05-17T19:57:00.733633Z",
     "iopub.status.idle": "2021-05-17T19:57:11.597365Z",
     "shell.execute_reply": "2021-05-17T19:57:11.596490Z"
    },
    "papermill": {
     "duration": 10.953496,
     "end_time": "2021-05-17T19:57:11.597544",
     "exception": false,
     "start_time": "2021-05-17T19:57:00.644048",
     "status": "completed"
    },
    "tags": []
   },
   "outputs": [
    {
     "name": "stdout",
     "output_type": "stream",
     "text": [
      "Collecting git+https://github.com/mjkvaak/ImageDataAugmentor\r\n",
      "  Cloning https://github.com/mjkvaak/ImageDataAugmentor to /tmp/pip-req-build-k1ez2dug\r\n",
      "  Running command git clone -q https://github.com/mjkvaak/ImageDataAugmentor /tmp/pip-req-build-k1ez2dug\r\n",
      "Requirement already satisfied: opencv-python>=4.2 in /opt/conda/lib/python3.7/site-packages (from ImageDataAugmentor==0.0.0) (4.5.1.48)\r\n",
      "Requirement already satisfied: matplotlib in /opt/conda/lib/python3.7/site-packages (from ImageDataAugmentor==0.0.0) (3.4.1)\r\n",
      "Requirement already satisfied: Pillow in /opt/conda/lib/python3.7/site-packages (from ImageDataAugmentor==0.0.0) (7.2.0)\r\n",
      "Requirement already satisfied: scipy in /opt/conda/lib/python3.7/site-packages (from ImageDataAugmentor==0.0.0) (1.5.4)\r\n",
      "Requirement already satisfied: pandas in /opt/conda/lib/python3.7/site-packages (from ImageDataAugmentor==0.0.0) (1.1.5)\r\n",
      "Requirement already satisfied: numpy>=1.14.5 in /opt/conda/lib/python3.7/site-packages (from opencv-python>=4.2->ImageDataAugmentor==0.0.0) (1.19.5)\r\n",
      "Requirement already satisfied: python-dateutil>=2.7 in /opt/conda/lib/python3.7/site-packages (from matplotlib->ImageDataAugmentor==0.0.0) (2.8.1)\r\n",
      "Requirement already satisfied: kiwisolver>=1.0.1 in /opt/conda/lib/python3.7/site-packages (from matplotlib->ImageDataAugmentor==0.0.0) (1.3.1)\r\n",
      "Requirement already satisfied: cycler>=0.10 in /opt/conda/lib/python3.7/site-packages (from matplotlib->ImageDataAugmentor==0.0.0) (0.10.0)\r\n",
      "Requirement already satisfied: pyparsing>=2.2.1 in /opt/conda/lib/python3.7/site-packages (from matplotlib->ImageDataAugmentor==0.0.0) (2.4.7)\r\n",
      "Requirement already satisfied: six in /opt/conda/lib/python3.7/site-packages (from cycler>=0.10->matplotlib->ImageDataAugmentor==0.0.0) (1.15.0)\r\n",
      "Requirement already satisfied: pytz>=2017.2 in /opt/conda/lib/python3.7/site-packages (from pandas->ImageDataAugmentor==0.0.0) (2021.1)\r\n",
      "Building wheels for collected packages: ImageDataAugmentor\r\n",
      "  Building wheel for ImageDataAugmentor (setup.py) ... \u001b[?25l-\b \b\\\b \bdone\r\n",
      "\u001b[?25h  Created wheel for ImageDataAugmentor: filename=ImageDataAugmentor-0.0.0-py3-none-any.whl size=29531 sha256=c9a50ff95867a6b6a95cb1fc67e63e1ecf595af9679696e527b8689bba375f5c\r\n",
      "  Stored in directory: /tmp/pip-ephem-wheel-cache-_41y9xwu/wheels/c9/bd/73/9cfa59d2393dae55bbcc30f5aa901f55fe531c66efebbc8fc3\r\n",
      "Successfully built ImageDataAugmentor\r\n",
      "Installing collected packages: ImageDataAugmentor\r\n",
      "Successfully installed ImageDataAugmentor-0.0.0\r\n"
     ]
    }
   ],
   "source": [
    "# воспользуемся библиотекой для аугументации изображений\n",
    "! pip install git+https://github.com/mjkvaak/ImageDataAugmentor"
   ]
  },
  {
   "cell_type": "code",
   "execution_count": 11,
   "id": "russian-lying",
   "metadata": {
    "execution": {
     "iopub.execute_input": "2021-05-17T19:57:11.687283Z",
     "iopub.status.busy": "2021-05-17T19:57:11.683949Z",
     "iopub.status.idle": "2021-05-17T19:57:12.720201Z",
     "shell.execute_reply": "2021-05-17T19:57:12.719678Z"
    },
    "papermill": {
     "duration": 1.074809,
     "end_time": "2021-05-17T19:57:12.720332",
     "exception": false,
     "start_time": "2021-05-17T19:57:11.645523",
     "status": "completed"
    },
    "tags": []
   },
   "outputs": [],
   "source": [
    "import tensorflow as tf\n",
    "from ImageDataAugmentor.image_data_augmentor import *\n",
    "import albumentations"
   ]
  },
  {
   "cell_type": "code",
   "execution_count": 12,
   "id": "radio-ethiopia",
   "metadata": {
    "execution": {
     "iopub.execute_input": "2021-05-17T19:57:12.791261Z",
     "iopub.status.busy": "2021-05-17T19:57:12.790419Z",
     "iopub.status.idle": "2021-05-17T19:57:13.912657Z",
     "shell.execute_reply": "2021-05-17T19:57:13.913130Z"
    },
    "papermill": {
     "duration": 1.162891,
     "end_time": "2021-05-17T19:57:13.913290",
     "exception": false,
     "start_time": "2021-05-17T19:57:12.750399",
     "status": "completed"
    },
    "tags": []
   },
   "outputs": [
    {
     "name": "stderr",
     "output_type": "stream",
     "text": [
      "/opt/conda/lib/python3.7/site-packages/ImageDataAugmentor/image_data_augmentor.py:332: UserWarning: Passing `seed` in `.flow_from_directory` has been been removed: pass  `seed` as parameter in `ImageDataAugmentor(..., seed=...)` instead\n",
      "  warnings.warn('Passing `seed` in `.flow_from_directory` has been been removed: pass  `seed` '\n"
     ]
    },
    {
     "name": "stdout",
     "output_type": "stream",
     "text": [
      "Found 13232 images belonging to 10 classes.\n",
      "Found 2329 images belonging to 10 classes.\n",
      "Found 6675 validated image filenames.\n"
     ]
    }
   ],
   "source": [
    "\n",
    "AUGMENTATIONS = albumentations.Compose([\n",
    "    albumentations.HorizontalFlip(p=0.5),\n",
    "    albumentations.Rotate(limit=30, interpolation=1, border_mode=4, value=None, mask_value=None, always_apply=False, p=0.5),\n",
    "    albumentations.OneOf([\n",
    "        albumentations.CenterCrop(height=224, width=200),\n",
    "        albumentations.CenterCrop(height=200, width=224),\n",
    "    ],p=0.5),\n",
    "    albumentations.OneOf([\n",
    "        albumentations.RandomBrightnessContrast(brightness_limit=0.3, contrast_limit=0.3),\n",
    "        albumentations.RandomBrightnessContrast(brightness_limit=0.1, contrast_limit=0.1)\n",
    "    ],p=0.5),\n",
    "    albumentations.GaussianBlur(p=0.05),\n",
    "    albumentations.HueSaturationValue(p=0.5),\n",
    "    albumentations.RGBShift(p=0.5),\n",
    "    albumentations.FancyPCA(alpha=0.1, always_apply=False, p=0.5),\n",
    "    albumentations.Resize(240, 320)\n",
    "])\n",
    "\n",
    "# dataloaders\n",
    "train_datagen_2 = ImageDataAugmentor(\n",
    "        rescale=1./255,\n",
    "        augment=AUGMENTATIONS,\n",
    "        validation_split=VAL_SPLIT)\n",
    "\n",
    "test_datagen = ImageDataGenerator(rescale=1. / 255)\n",
    "\n",
    "# data generators\n",
    "train_generator_2 = train_datagen_2.flow_from_directory(\n",
    "        PATH+'train/',\n",
    "        target_size=(IMG_SIZE, IMG_SIZE),\n",
    "        batch_size=BATCH_SIZE,\n",
    "        class_mode='categorical',\n",
    "        shuffle=True, \n",
    "        seed=RANDOM_SEED,\n",
    "        subset='training')\n",
    "\n",
    "test_generator_2 = train_datagen_2.flow_from_directory(\n",
    "        PATH+'train/',\n",
    "        target_size=(IMG_SIZE, IMG_SIZE),\n",
    "        batch_size=BATCH_SIZE,\n",
    "        class_mode='categorical',\n",
    "        shuffle=True, seed=RANDOM_SEED,\n",
    "        subset='validation')\n",
    "\n",
    "test_sub_generator = test_datagen.flow_from_dataframe( \n",
    "    dataframe=sample_submission,\n",
    "    directory=PATH+'test_upload/',\n",
    "    x_col=\"Id\",\n",
    "    y_col=None,\n",
    "    shuffle=False,\n",
    "    class_mode=None,\n",
    "    seed=RANDOM_SEED,\n",
    "    target_size=(IMG_SIZE, IMG_SIZE),\n",
    "    batch_size=BATCH_SIZE,)"
   ]
  },
  {
   "cell_type": "code",
   "execution_count": 13,
   "id": "separated-cassette",
   "metadata": {
    "execution": {
     "iopub.execute_input": "2021-05-17T19:57:13.983909Z",
     "iopub.status.busy": "2021-05-17T19:57:13.982930Z",
     "iopub.status.idle": "2021-05-17T19:57:20.065686Z",
     "shell.execute_reply": "2021-05-17T19:57:20.065061Z"
    },
    "papermill": {
     "duration": 6.121822,
     "end_time": "2021-05-17T19:57:20.065809",
     "exception": false,
     "start_time": "2021-05-17T19:57:13.943987",
     "status": "completed"
    },
    "tags": []
   },
   "outputs": [
    {
     "name": "stdout",
     "output_type": "stream",
     "text": [
      "Collecting efficientnet\r\n",
      "  Downloading efficientnet-1.1.1-py3-none-any.whl (18 kB)\r\n",
      "Requirement already satisfied: scikit-image in /opt/conda/lib/python3.7/site-packages (from efficientnet) (0.18.1)\r\n",
      "Collecting keras-applications<=1.0.8,>=1.0.7\r\n",
      "  Downloading Keras_Applications-1.0.8-py3-none-any.whl (50 kB)\r\n",
      "\u001b[K     |████████████████████████████████| 50 kB 2.6 MB/s \r\n",
      "\u001b[?25hRequirement already satisfied: h5py in /opt/conda/lib/python3.7/site-packages (from keras-applications<=1.0.8,>=1.0.7->efficientnet) (2.10.0)\r\n",
      "Requirement already satisfied: numpy>=1.9.1 in /opt/conda/lib/python3.7/site-packages (from keras-applications<=1.0.8,>=1.0.7->efficientnet) (1.19.5)\r\n",
      "Requirement already satisfied: six in /opt/conda/lib/python3.7/site-packages (from h5py->keras-applications<=1.0.8,>=1.0.7->efficientnet) (1.15.0)\r\n",
      "Requirement already satisfied: imageio>=2.3.0 in /opt/conda/lib/python3.7/site-packages (from scikit-image->efficientnet) (2.9.0)\r\n",
      "Requirement already satisfied: scipy>=1.0.1 in /opt/conda/lib/python3.7/site-packages (from scikit-image->efficientnet) (1.5.4)\r\n",
      "Requirement already satisfied: matplotlib!=3.0.0,>=2.0.0 in /opt/conda/lib/python3.7/site-packages (from scikit-image->efficientnet) (3.4.1)\r\n",
      "Requirement already satisfied: PyWavelets>=1.1.1 in /opt/conda/lib/python3.7/site-packages (from scikit-image->efficientnet) (1.1.1)\r\n",
      "Requirement already satisfied: networkx>=2.0 in /opt/conda/lib/python3.7/site-packages (from scikit-image->efficientnet) (2.5)\r\n",
      "Requirement already satisfied: pillow!=7.1.0,!=7.1.1,>=4.3.0 in /opt/conda/lib/python3.7/site-packages (from scikit-image->efficientnet) (7.2.0)\r\n",
      "Requirement already satisfied: tifffile>=2019.7.26 in /opt/conda/lib/python3.7/site-packages (from scikit-image->efficientnet) (2021.4.8)\r\n",
      "Requirement already satisfied: python-dateutil>=2.7 in /opt/conda/lib/python3.7/site-packages (from matplotlib!=3.0.0,>=2.0.0->scikit-image->efficientnet) (2.8.1)\r\n",
      "Requirement already satisfied: cycler>=0.10 in /opt/conda/lib/python3.7/site-packages (from matplotlib!=3.0.0,>=2.0.0->scikit-image->efficientnet) (0.10.0)\r\n",
      "Requirement already satisfied: kiwisolver>=1.0.1 in /opt/conda/lib/python3.7/site-packages (from matplotlib!=3.0.0,>=2.0.0->scikit-image->efficientnet) (1.3.1)\r\n",
      "Requirement already satisfied: pyparsing>=2.2.1 in /opt/conda/lib/python3.7/site-packages (from matplotlib!=3.0.0,>=2.0.0->scikit-image->efficientnet) (2.4.7)\r\n",
      "Requirement already satisfied: decorator>=4.3.0 in /opt/conda/lib/python3.7/site-packages (from networkx>=2.0->scikit-image->efficientnet) (4.4.2)\r\n",
      "Installing collected packages: keras-applications, efficientnet\r\n",
      "Successfully installed efficientnet-1.1.1 keras-applications-1.0.8\r\n"
     ]
    }
   ],
   "source": [
    "!pip install efficientnet"
   ]
  },
  {
   "cell_type": "code",
   "execution_count": 14,
   "id": "norwegian-subscription",
   "metadata": {
    "execution": {
     "iopub.execute_input": "2021-05-17T19:57:20.136287Z",
     "iopub.status.busy": "2021-05-17T19:57:20.135534Z",
     "iopub.status.idle": "2021-05-17T19:57:20.146832Z",
     "shell.execute_reply": "2021-05-17T19:57:20.146442Z"
    },
    "papermill": {
     "duration": 0.047787,
     "end_time": "2021-05-17T19:57:20.146937",
     "exception": false,
     "start_time": "2021-05-17T19:57:20.099150",
     "status": "completed"
    },
    "tags": []
   },
   "outputs": [],
   "source": [
    "import efficientnet.tfkeras as efn"
   ]
  },
  {
   "cell_type": "code",
   "execution_count": 15,
   "id": "solid-communications",
   "metadata": {
    "execution": {
     "iopub.execute_input": "2021-05-17T19:57:20.215440Z",
     "iopub.status.busy": "2021-05-17T19:57:20.214866Z",
     "iopub.status.idle": "2021-05-17T19:57:29.198743Z",
     "shell.execute_reply": "2021-05-17T19:57:29.198091Z"
    },
    "papermill": {
     "duration": 9.01938,
     "end_time": "2021-05-17T19:57:29.198878",
     "exception": false,
     "start_time": "2021-05-17T19:57:20.179498",
     "status": "completed"
    },
    "tags": []
   },
   "outputs": [],
   "source": [
    "# загрузим модель Efficientnet-b2 c весами noisy student\n",
    "model_path = '../input/efficientnet-keras-noisystudent-weights-b0b7/efficientnet-b5_noisy-student_notop.h5'\n",
    "base_model = efn.EfficientNetB5(weights=model_path, include_top=False, input_shape=input_shape)"
   ]
  },
  {
   "cell_type": "code",
   "execution_count": 16,
   "id": "assumed-hearing",
   "metadata": {
    "execution": {
     "iopub.execute_input": "2021-05-17T19:57:29.284921Z",
     "iopub.status.busy": "2021-05-17T19:57:29.283670Z",
     "iopub.status.idle": "2021-05-17T19:57:29.286050Z",
     "shell.execute_reply": "2021-05-17T19:57:29.286490Z"
    },
    "papermill": {
     "duration": 0.055062,
     "end_time": "2021-05-17T19:57:29.286613",
     "exception": false,
     "start_time": "2021-05-17T19:57:29.231551",
     "status": "completed"
    },
    "tags": []
   },
   "outputs": [],
   "source": [
    "base_model.trainable = False"
   ]
  },
  {
   "cell_type": "code",
   "execution_count": 17,
   "id": "joint-definition",
   "metadata": {
    "execution": {
     "iopub.execute_input": "2021-05-17T19:57:29.359858Z",
     "iopub.status.busy": "2021-05-17T19:57:29.359097Z",
     "iopub.status.idle": "2021-05-17T19:57:30.600233Z",
     "shell.execute_reply": "2021-05-17T19:57:30.600653Z"
    },
    "papermill": {
     "duration": 1.281277,
     "end_time": "2021-05-17T19:57:30.600816",
     "exception": false,
     "start_time": "2021-05-17T19:57:29.319539",
     "status": "completed"
    },
    "tags": []
   },
   "outputs": [],
   "source": [
    "# instantiating the model in the strategy scope creates the model on the TPU\n",
    "#with tpu_strategy.scope():\n",
    "# steps_per_execution=32\n",
    "\n",
    "model2 = Model.Sequential()\n",
    "model2.add(base_model)\n",
    "# model2.add(layers.Conv2D(32, 3, activation = 'relu', padding = 'same', \n",
    "#                         input_shape = input_shape))\n",
    "# model2.add(layers.BatchNormalization())\n",
    "\n",
    "model2.add(layers.GlobalAveragePooling2D())\n",
    "model2.add(layers.BatchNormalization()) \n",
    "#model2.add(layers.Dropout(0.25))\n",
    "   \n",
    "model2.add(layers.Dense(256, activation='relu'))\n",
    "model2.add(layers.Dropout(0.5))\n",
    "\n",
    "#model2.add(layers.BatchNormalization())\n",
    "#     model2.add(layers.Dropout(0.25))\n",
    "\n",
    "model2.add(layers.Dense(CLASS_NUM, activation='softmax'))\n",
    "\n",
    "model2.compile(loss=\"categorical_crossentropy\", \n",
    "               optimizer=optimizers.Adam(lr=LR), \n",
    "               metrics=[\"accuracy\"],\n",
    "               )"
   ]
  },
  {
   "cell_type": "code",
   "execution_count": 18,
   "id": "pointed-pitch",
   "metadata": {
    "execution": {
     "iopub.execute_input": "2021-05-17T19:57:30.672387Z",
     "iopub.status.busy": "2021-05-17T19:57:30.671718Z",
     "iopub.status.idle": "2021-05-17T19:57:30.674834Z",
     "shell.execute_reply": "2021-05-17T19:57:30.675216Z"
    },
    "papermill": {
     "duration": 0.040942,
     "end_time": "2021-05-17T19:57:30.675345",
     "exception": false,
     "start_time": "2021-05-17T19:57:30.634403",
     "status": "completed"
    },
    "tags": []
   },
   "outputs": [],
   "source": [
    "checkpoint = ModelCheckpoint('best_model.hdf5', \n",
    "                             monitor = ['val_accuracy'], \n",
    "                             verbose = 1, \n",
    "                             mode = 'max')\n",
    "\n",
    "earlystop = tf.keras.callbacks.EarlyStopping(monitor='val_accuracy',\n",
    "                                             patience=3, \n",
    "                                             restore_best_weights=True)\n",
    "\n",
    "reduce_lr = ReduceLROnPlateau(monitor='val_loss', factor=0.25,\n",
    "                              patience=2, min_lr=0.0000001, verbose=1,\n",
    "                             mode='auto')\n",
    "\n",
    "callbacks_list = [checkpoint,earlystop,reduce_lr] # lrscheduler,lr_callback"
   ]
  },
  {
   "cell_type": "code",
   "execution_count": 19,
   "id": "right-cycle",
   "metadata": {
    "execution": {
     "iopub.execute_input": "2021-05-17T19:57:30.747278Z",
     "iopub.status.busy": "2021-05-17T19:57:30.746732Z",
     "iopub.status.idle": "2021-05-17T20:31:20.471113Z",
     "shell.execute_reply": "2021-05-17T20:31:20.469575Z"
    },
    "papermill": {
     "duration": 2029.763674,
     "end_time": "2021-05-17T20:31:20.471250",
     "exception": false,
     "start_time": "2021-05-17T19:57:30.707576",
     "status": "completed"
    },
    "tags": []
   },
   "outputs": [
    {
     "name": "stdout",
     "output_type": "stream",
     "text": [
      "Epoch 1/10\n",
      "827/827 [==============================] - 211s 236ms/step - loss: 2.6069 - accuracy: 0.2222 - val_loss: 1.4819 - val_accuracy: 0.4651\n",
      "\n",
      "Epoch 00001: saving model to best_model.hdf5\n",
      "Epoch 2/10\n",
      "827/827 [==============================] - 195s 236ms/step - loss: 1.9808 - accuracy: 0.3332 - val_loss: 1.3443 - val_accuracy: 0.5250\n",
      "\n",
      "Epoch 00002: saving model to best_model.hdf5\n",
      "Epoch 3/10\n",
      "827/827 [==============================] - 199s 240ms/step - loss: 1.8005 - accuracy: 0.3863 - val_loss: 1.2670 - val_accuracy: 0.5586\n",
      "\n",
      "Epoch 00003: saving model to best_model.hdf5\n",
      "Epoch 4/10\n",
      "827/827 [==============================] - 197s 238ms/step - loss: 1.7054 - accuracy: 0.4034 - val_loss: 1.2081 - val_accuracy: 0.5677\n",
      "\n",
      "Epoch 00004: saving model to best_model.hdf5\n",
      "Epoch 5/10\n",
      "827/827 [==============================] - 201s 243ms/step - loss: 1.6500 - accuracy: 0.4178 - val_loss: 1.2069 - val_accuracy: 0.5728\n",
      "\n",
      "Epoch 00005: saving model to best_model.hdf5\n",
      "Epoch 6/10\n",
      "827/827 [==============================] - 203s 245ms/step - loss: 1.5551 - accuracy: 0.4413 - val_loss: 1.1744 - val_accuracy: 0.5642\n",
      "\n",
      "Epoch 00006: saving model to best_model.hdf5\n",
      "Epoch 7/10\n",
      "827/827 [==============================] - 205s 247ms/step - loss: 1.5663 - accuracy: 0.4444 - val_loss: 1.1280 - val_accuracy: 0.5849\n",
      "\n",
      "Epoch 00007: saving model to best_model.hdf5\n",
      "Epoch 8/10\n",
      "827/827 [==============================] - 201s 243ms/step - loss: 1.4959 - accuracy: 0.4638 - val_loss: 1.0841 - val_accuracy: 0.6220\n",
      "\n",
      "Epoch 00008: saving model to best_model.hdf5\n",
      "Epoch 9/10\n",
      "827/827 [==============================] - 201s 243ms/step - loss: 1.4752 - accuracy: 0.4687 - val_loss: 1.0964 - val_accuracy: 0.6190\n",
      "\n",
      "Epoch 00009: saving model to best_model.hdf5\n",
      "Epoch 10/10\n",
      "827/827 [==============================] - 201s 243ms/step - loss: 1.4695 - accuracy: 0.4649 - val_loss: 1.0850 - val_accuracy: 0.6155\n",
      "\n",
      "Epoch 00010: saving model to best_model.hdf5\n",
      "\n",
      "Epoch 00010: ReduceLROnPlateau reducing learning rate to 2.499999936844688e-05.\n"
     ]
    }
   ],
   "source": [
    "history = model2.fit(\n",
    "        train_generator_2,\n",
    "        steps_per_epoch = train_generator_2.samples//train_generator_2.batch_size,\n",
    "        validation_data = test_generator_2, \n",
    "        validation_steps = test_generator_2.samples//test_generator_2.batch_size,\n",
    "        epochs = EPOCHS,\n",
    "        callbacks = callbacks_list\n",
    ")\n"
   ]
  },
  {
   "cell_type": "code",
   "execution_count": 20,
   "id": "usual-treasury",
   "metadata": {
    "execution": {
     "iopub.execute_input": "2021-05-17T20:31:25.143279Z",
     "iopub.status.busy": "2021-05-17T20:31:25.107528Z",
     "iopub.status.idle": "2021-05-17T20:31:26.256874Z",
     "shell.execute_reply": "2021-05-17T20:31:26.256025Z"
    },
    "papermill": {
     "duration": 3.528752,
     "end_time": "2021-05-17T20:31:26.257031",
     "exception": false,
     "start_time": "2021-05-17T20:31:22.728279",
     "status": "completed"
    },
    "tags": []
   },
   "outputs": [],
   "source": [
    "model2.save('../working/model_last_1.hdf5')\n",
    "model2.load_weights('best_model.hdf5')"
   ]
  },
  {
   "cell_type": "code",
   "execution_count": 21,
   "id": "critical-mapping",
   "metadata": {
    "execution": {
     "iopub.execute_input": "2021-05-17T20:31:30.571148Z",
     "iopub.status.busy": "2021-05-17T20:31:30.570301Z",
     "iopub.status.idle": "2021-05-17T20:31:30.573219Z",
     "shell.execute_reply": "2021-05-17T20:31:30.572734Z"
    },
    "papermill": {
     "duration": 2.148996,
     "end_time": "2021-05-17T20:31:30.573334",
     "exception": false,
     "start_time": "2021-05-17T20:31:28.424338",
     "status": "completed"
    },
    "tags": []
   },
   "outputs": [],
   "source": [
    "# scores = model2.evaluate_generator(test_generator_2, steps=len(test_generator_2), verbose=1)\n",
    "# print(\"Accuracy: %.2f%%\" % (scores[1]*100))"
   ]
  },
  {
   "cell_type": "code",
   "execution_count": 22,
   "id": "sufficient-cross",
   "metadata": {
    "execution": {
     "iopub.execute_input": "2021-05-17T20:31:35.178037Z",
     "iopub.status.busy": "2021-05-17T20:31:35.176391Z",
     "iopub.status.idle": "2021-05-17T20:31:35.178709Z",
     "shell.execute_reply": "2021-05-17T20:31:35.179122Z"
    },
    "papermill": {
     "duration": 2.426528,
     "end_time": "2021-05-17T20:31:35.179255",
     "exception": false,
     "start_time": "2021-05-17T20:31:32.752727",
     "status": "completed"
    },
    "tags": []
   },
   "outputs": [],
   "source": [
    "# начинаем постепенную разморозку слоев для базовой модели для обучения\n",
    "base_model.trainable = True\n",
    "\n",
    "# Fine-tune from this layer onwards\n",
    "fine_tune_at = len(base_model.layers)//2 # количество слоев, которые будут обучаться\n",
    "\n",
    "# Freeze all the layers before the `fine_tune_at` layer\n",
    "for layer in base_model.layers[:fine_tune_at]:\n",
    "    layer.trainable =  False"
   ]
  },
  {
   "cell_type": "code",
   "execution_count": 23,
   "id": "changed-robin",
   "metadata": {
    "execution": {
     "iopub.execute_input": "2021-05-17T20:31:39.512661Z",
     "iopub.status.busy": "2021-05-17T20:31:39.511854Z",
     "iopub.status.idle": "2021-05-17T20:31:39.524309Z",
     "shell.execute_reply": "2021-05-17T20:31:39.524687Z"
    },
    "papermill": {
     "duration": 2.199839,
     "end_time": "2021-05-17T20:31:39.524824",
     "exception": false,
     "start_time": "2021-05-17T20:31:37.324985",
     "status": "completed"
    },
    "tags": []
   },
   "outputs": [],
   "source": [
    "model2.compile(loss=\"categorical_crossentropy\", \n",
    "               optimizer=optimizers.Adam(lr=LR), \n",
    "               metrics=[\"accuracy\"])"
   ]
  },
  {
   "cell_type": "code",
   "execution_count": 24,
   "id": "northern-living",
   "metadata": {
    "execution": {
     "iopub.execute_input": "2021-05-17T20:31:43.853701Z",
     "iopub.status.busy": "2021-05-17T20:31:43.852924Z",
     "iopub.status.idle": "2021-05-17T21:11:14.680448Z",
     "shell.execute_reply": "2021-05-17T21:11:14.679896Z"
    },
    "papermill": {
     "duration": 2373.006026,
     "end_time": "2021-05-17T21:11:14.680579",
     "exception": false,
     "start_time": "2021-05-17T20:31:41.674553",
     "status": "completed"
    },
    "tags": []
   },
   "outputs": [
    {
     "name": "stdout",
     "output_type": "stream",
     "text": [
      "Epoch 1/10\n",
      "827/827 [==============================] - 252s 285ms/step - loss: 1.4898 - accuracy: 0.4692 - val_loss: 0.4146 - val_accuracy: 0.8427\n",
      "\n",
      "Epoch 00001: saving model to best_model.hdf5\n",
      "Epoch 2/10\n",
      "827/827 [==============================] - 235s 284ms/step - loss: 0.6233 - accuracy: 0.7794 - val_loss: 0.3239 - val_accuracy: 0.8948\n",
      "\n",
      "Epoch 00002: saving model to best_model.hdf5\n",
      "Epoch 3/10\n",
      "827/827 [==============================] - 232s 280ms/step - loss: 0.4540 - accuracy: 0.8492 - val_loss: 0.2620 - val_accuracy: 0.9164\n",
      "\n",
      "Epoch 00003: saving model to best_model.hdf5\n",
      "Epoch 4/10\n",
      "827/827 [==============================] - 231s 279ms/step - loss: 0.3404 - accuracy: 0.8789 - val_loss: 0.2229 - val_accuracy: 0.9224\n",
      "\n",
      "Epoch 00004: saving model to best_model.hdf5\n",
      "Epoch 5/10\n",
      "827/827 [==============================] - 230s 278ms/step - loss: 0.3077 - accuracy: 0.8931 - val_loss: 0.2589 - val_accuracy: 0.9207\n",
      "\n",
      "Epoch 00005: saving model to best_model.hdf5\n",
      "Epoch 6/10\n",
      "827/827 [==============================] - 228s 276ms/step - loss: 0.2576 - accuracy: 0.9085 - val_loss: 0.1774 - val_accuracy: 0.9405\n",
      "\n",
      "Epoch 00006: saving model to best_model.hdf5\n",
      "Epoch 7/10\n",
      "827/827 [==============================] - 228s 276ms/step - loss: 0.2249 - accuracy: 0.9213 - val_loss: 0.1746 - val_accuracy: 0.9401\n",
      "\n",
      "Epoch 00007: saving model to best_model.hdf5\n",
      "Epoch 8/10\n",
      "827/827 [==============================] - 236s 285ms/step - loss: 0.2205 - accuracy: 0.9252 - val_loss: 0.1889 - val_accuracy: 0.9418\n",
      "\n",
      "Epoch 00008: saving model to best_model.hdf5\n",
      "Epoch 9/10\n",
      "827/827 [==============================] - 237s 287ms/step - loss: 0.1793 - accuracy: 0.9358 - val_loss: 0.1746 - val_accuracy: 0.9461\n",
      "\n",
      "Epoch 00009: saving model to best_model.hdf5\n",
      "\n",
      "Epoch 00009: ReduceLROnPlateau reducing learning rate to 2.499999936844688e-05.\n",
      "Epoch 10/10\n",
      "827/827 [==============================] - 233s 282ms/step - loss: 0.1611 - accuracy: 0.9400 - val_loss: 0.1666 - val_accuracy: 0.9496\n",
      "\n",
      "Epoch 00010: saving model to best_model.hdf5\n"
     ]
    }
   ],
   "source": [
    "history = model2.fit(\n",
    "        train_generator_2,\n",
    "        steps_per_epoch = train_generator_2.samples//train_generator_2.batch_size,\n",
    "        validation_data = test_generator_2, \n",
    "        validation_steps = test_generator_2.samples//test_generator_2.batch_size,\n",
    "        epochs = EPOCHS,\n",
    "        callbacks = callbacks_list\n",
    ")"
   ]
  },
  {
   "cell_type": "code",
   "execution_count": 25,
   "id": "cutting-student",
   "metadata": {
    "execution": {
     "iopub.execute_input": "2021-05-17T21:11:23.727151Z",
     "iopub.status.busy": "2021-05-17T21:11:23.726268Z",
     "iopub.status.idle": "2021-05-17T22:18:29.397032Z",
     "shell.execute_reply": "2021-05-17T22:18:29.397509Z"
    },
    "papermill": {
     "duration": 4030.376094,
     "end_time": "2021-05-17T22:18:29.397722",
     "exception": false,
     "start_time": "2021-05-17T21:11:19.021628",
     "status": "completed"
    },
    "tags": []
   },
   "outputs": [
    {
     "name": "stdout",
     "output_type": "stream",
     "text": [
      "Epoch 1/10\n",
      "827/827 [==============================] - 521s 607ms/step - loss: 0.1497 - accuracy: 0.9487 - val_loss: 0.1462 - val_accuracy: 0.9522\n",
      "\n",
      "Epoch 00001: saving model to best_model.hdf5\n",
      "Epoch 2/10\n",
      "827/827 [==============================] - 495s 599ms/step - loss: 0.1418 - accuracy: 0.9484 - val_loss: 0.1402 - val_accuracy: 0.9543\n",
      "\n",
      "Epoch 00002: saving model to best_model.hdf5\n",
      "Epoch 3/10\n",
      "827/827 [==============================] - 498s 601ms/step - loss: 0.1145 - accuracy: 0.9570 - val_loss: 0.1413 - val_accuracy: 0.9565\n",
      "\n",
      "Epoch 00003: saving model to best_model.hdf5\n",
      "Epoch 4/10\n",
      "827/827 [==============================] - 498s 603ms/step - loss: 0.1078 - accuracy: 0.9596 - val_loss: 0.1454 - val_accuracy: 0.9586\n",
      "\n",
      "Epoch 00004: saving model to best_model.hdf5\n",
      "\n",
      "Epoch 00004: ReduceLROnPlateau reducing learning rate to 2.499999936844688e-06.\n",
      "Epoch 5/10\n",
      "827/827 [==============================] - 500s 605ms/step - loss: 0.1016 - accuracy: 0.9588 - val_loss: 0.1399 - val_accuracy: 0.9599\n",
      "\n",
      "Epoch 00005: saving model to best_model.hdf5\n",
      "Epoch 6/10\n",
      "827/827 [==============================] - 498s 602ms/step - loss: 0.1050 - accuracy: 0.9608 - val_loss: 0.1369 - val_accuracy: 0.9582\n",
      "\n",
      "Epoch 00006: saving model to best_model.hdf5\n",
      "Epoch 7/10\n",
      "827/827 [==============================] - 498s 602ms/step - loss: 0.1007 - accuracy: 0.9618 - val_loss: 0.1352 - val_accuracy: 0.9578\n",
      "\n",
      "Epoch 00007: saving model to best_model.hdf5\n",
      "Epoch 8/10\n",
      "827/827 [==============================] - 499s 603ms/step - loss: 0.0984 - accuracy: 0.9606 - val_loss: 0.1564 - val_accuracy: 0.9517\n",
      "\n",
      "Epoch 00008: saving model to best_model.hdf5\n"
     ]
    }
   ],
   "source": [
    "base_model.trainable = True\n",
    "\n",
    "LR = 1e-5\n",
    "model2.compile(loss=\"categorical_crossentropy\", \n",
    "               optimizer=optimizers.Adam(lr=LR), \n",
    "               metrics=[\"accuracy\"])\n",
    "\n",
    "history = model2.fit(\n",
    "        train_generator_2,\n",
    "        steps_per_epoch = train_generator_2.samples//train_generator_2.batch_size,\n",
    "        validation_data = test_generator_2, \n",
    "        validation_steps = test_generator_2.samples//test_generator_2.batch_size,\n",
    "        epochs = EPOCHS,\n",
    "        callbacks = callbacks_list\n",
    ")"
   ]
  },
  {
   "cell_type": "code",
   "execution_count": 26,
   "id": "twenty-record",
   "metadata": {
    "execution": {
     "iopub.execute_input": "2021-05-17T22:18:41.757140Z",
     "iopub.status.busy": "2021-05-17T22:18:41.756272Z",
     "iopub.status.idle": "2021-05-17T22:18:41.758491Z",
     "shell.execute_reply": "2021-05-17T22:18:41.758852Z"
    },
    "papermill": {
     "duration": 6.289357,
     "end_time": "2021-05-17T22:18:41.758989",
     "exception": false,
     "start_time": "2021-05-17T22:18:35.469632",
     "status": "completed"
    },
    "tags": []
   },
   "outputs": [],
   "source": [
    "EPOCHS               = 10\n",
    "BATCH_SIZE           = 4\n",
    "LR                   = 1e-5\n",
    "\n",
    "IMG_SIZE             = 456\n",
    "IMG_CHANNELS         = 3\n",
    "input_shape          = (IMG_SIZE, int(IMG_SIZE/ratio), IMG_CHANNELS)"
   ]
  },
  {
   "cell_type": "code",
   "execution_count": 27,
   "id": "systematic-reading",
   "metadata": {
    "execution": {
     "iopub.execute_input": "2021-05-17T22:18:54.532384Z",
     "iopub.status.busy": "2021-05-17T22:18:54.530749Z",
     "iopub.status.idle": "2021-05-17T22:18:54.533148Z",
     "shell.execute_reply": "2021-05-17T22:18:54.533560Z"
    },
    "papermill": {
     "duration": 6.640709,
     "end_time": "2021-05-17T22:18:54.533692",
     "exception": false,
     "start_time": "2021-05-17T22:18:47.892983",
     "status": "completed"
    },
    "tags": []
   },
   "outputs": [],
   "source": [
    "AUGMENTATIONS = albumentations.Compose([\n",
    "    albumentations.HorizontalFlip(p=0.5),\n",
    "    albumentations.Rotate(limit=30, interpolation=1, border_mode=4, value=None, mask_value=None, always_apply=False, p=0.5),\n",
    "\n",
    "])\n",
    "\n",
    "# dataloaders\n",
    "train_datagen_2 = ImageDataAugmentor(\n",
    "        rescale=1./255,\n",
    "        augment=AUGMENTATIONS,\n",
    "        validation_split=VAL_SPLIT)\n",
    "\n",
    "test_datagen = ImageDataGenerator(rescale=1. / 255)"
   ]
  },
  {
   "cell_type": "code",
   "execution_count": 28,
   "id": "straight-begin",
   "metadata": {
    "execution": {
     "iopub.execute_input": "2021-05-17T22:19:06.915488Z",
     "iopub.status.busy": "2021-05-17T22:19:06.914640Z",
     "iopub.status.idle": "2021-05-17T22:19:08.079916Z",
     "shell.execute_reply": "2021-05-17T22:19:08.079496Z"
    },
    "papermill": {
     "duration": 7.181218,
     "end_time": "2021-05-17T22:19:08.080050",
     "exception": false,
     "start_time": "2021-05-17T22:19:00.898832",
     "status": "completed"
    },
    "tags": []
   },
   "outputs": [
    {
     "name": "stdout",
     "output_type": "stream",
     "text": [
      "Found 13232 images belonging to 10 classes.\n",
      "Found 2329 images belonging to 10 classes.\n",
      "Found 6675 validated image filenames.\n"
     ]
    }
   ],
   "source": [
    "# data generators\n",
    "train_generator_2 = train_datagen_2.flow_from_directory(\n",
    "        PATH+'train/',\n",
    "        target_size=(IMG_SIZE, IMG_SIZE),\n",
    "        batch_size=BATCH_SIZE,\n",
    "        class_mode='categorical',\n",
    "        shuffle=True, \n",
    "        seed=RANDOM_SEED,\n",
    "        subset='training')\n",
    "\n",
    "test_generator_2 = train_datagen_2.flow_from_directory(\n",
    "        PATH+'train/',\n",
    "        target_size=(IMG_SIZE, IMG_SIZE),\n",
    "        batch_size=BATCH_SIZE,\n",
    "        class_mode='categorical',\n",
    "        shuffle=True, \n",
    "        seed=RANDOM_SEED,\n",
    "        subset='validation')\n",
    "\n",
    "test_sub_generator = test_datagen.flow_from_dataframe( \n",
    "    dataframe=sample_submission,\n",
    "    directory=PATH+'test_upload/',\n",
    "    x_col=\"Id\",\n",
    "    y_col=None,\n",
    "    shuffle=False,\n",
    "    class_mode=None,\n",
    "    seed=RANDOM_SEED,\n",
    "    target_size=(IMG_SIZE, IMG_SIZE),\n",
    "    batch_size=BATCH_SIZE,)"
   ]
  },
  {
   "cell_type": "code",
   "execution_count": 29,
   "id": "written-projector",
   "metadata": {
    "execution": {
     "iopub.execute_input": "2021-05-17T22:19:20.358711Z",
     "iopub.status.busy": "2021-05-17T22:19:20.358074Z",
     "iopub.status.idle": "2021-05-17T22:19:27.987288Z",
     "shell.execute_reply": "2021-05-17T22:19:27.986772Z"
    },
    "papermill": {
     "duration": 13.660746,
     "end_time": "2021-05-17T22:19:27.987435",
     "exception": false,
     "start_time": "2021-05-17T22:19:14.326689",
     "status": "completed"
    },
    "tags": []
   },
   "outputs": [],
   "source": [
    "# загружаем базовую модель\n",
    "\n",
    "model_path = '../input/efficientnet-keras-noisystudent-weights-b0b7/efficientnet-b5_noisy-student_notop.h5'  # imagenet\n",
    "\n",
    "base_model = efn.EfficientNetB5(weights=model_path, include_top=False, input_shape=input_shape)\n",
    "\n",
    "# # Устанавливаем новую \"голову\" (head)\n",
    "\n",
    "model2 = Model.Sequential()\n",
    "model2.add(base_model)\n",
    "# model2.add(layers.Conv2D(32, 3, activation = 'relu', padding = 'same', \n",
    "#                         input_shape = input_shape))\n",
    "# model2.add(layers.BatchNormalization())\n",
    "\n",
    "model2.add(layers.GlobalAveragePooling2D())\n",
    "model2.add(layers.BatchNormalization())\n",
    "#model2.add(layers.Dropout(0.25))    \n",
    "\n",
    "model2.add(layers.Dense(256, activation='relu'))\n",
    "model2.add(layers.Dropout(0.25))\n",
    "#model2.add(layers.BatchNormalization())\n",
    "#     model2.add(layers.Dropout(0.25))\n",
    "\n",
    "model2.add(layers.Dense(CLASS_NUM, activation='softmax'))\n",
    "\n",
    "model2.compile(loss=\"categorical_crossentropy\", \n",
    "               optimizer=optimizers.Adam(lr=LR), \n",
    "               metrics=[\"accuracy\"],\n",
    "               )"
   ]
  },
  {
   "cell_type": "code",
   "execution_count": 30,
   "id": "hawaiian-buffalo",
   "metadata": {
    "execution": {
     "iopub.execute_input": "2021-05-17T22:19:40.421334Z",
     "iopub.status.busy": "2021-05-17T22:19:40.385382Z",
     "iopub.status.idle": "2021-05-17T22:19:40.852077Z",
     "shell.execute_reply": "2021-05-17T22:19:40.851546Z"
    },
    "papermill": {
     "duration": 6.554408,
     "end_time": "2021-05-17T22:19:40.852208",
     "exception": false,
     "start_time": "2021-05-17T22:19:34.297800",
     "status": "completed"
    },
    "tags": []
   },
   "outputs": [],
   "source": [
    "# Загружаем веса уже обученной модели\n",
    "model2.load_weights('best_model.hdf5')"
   ]
  },
  {
   "cell_type": "code",
   "execution_count": 31,
   "id": "elder-journal",
   "metadata": {
    "execution": {
     "iopub.execute_input": "2021-05-17T22:19:53.431511Z",
     "iopub.status.busy": "2021-05-17T22:19:53.430650Z",
     "iopub.status.idle": "2021-05-17T22:19:53.432844Z",
     "shell.execute_reply": "2021-05-17T22:19:53.432220Z"
    },
    "papermill": {
     "duration": 6.264487,
     "end_time": "2021-05-17T22:19:53.433009",
     "exception": false,
     "start_time": "2021-05-17T22:19:47.168522",
     "status": "completed"
    },
    "tags": []
   },
   "outputs": [],
   "source": [
    "checkpoint = ModelCheckpoint('best_model.hdf5', \n",
    "                             monitor = ['val_accuracy'], \n",
    "                             verbose = 1, \n",
    "                             mode = 'max')"
   ]
  },
  {
   "cell_type": "code",
   "execution_count": 32,
   "id": "minus-listening",
   "metadata": {
    "execution": {
     "iopub.execute_input": "2021-05-17T22:20:06.242412Z",
     "iopub.status.busy": "2021-05-17T22:20:06.240783Z",
     "iopub.status.idle": "2021-05-17T22:20:06.243125Z",
     "shell.execute_reply": "2021-05-17T22:20:06.243528Z"
    },
    "papermill": {
     "duration": 6.325446,
     "end_time": "2021-05-17T22:20:06.243659",
     "exception": false,
     "start_time": "2021-05-17T22:19:59.918213",
     "status": "completed"
    },
    "tags": []
   },
   "outputs": [],
   "source": [
    "reduce_lr = ReduceLROnPlateau(monitor='val_loss', factor=0.3,\n",
    "                              patience=2, min_lr=0.0000001, verbose=1,\n",
    "                             mode='auto')\n",
    "earlystop = tf.keras.callbacks.EarlyStopping(monitor='val_accuracy',\n",
    "                                             patience=3, \n",
    "                                             restore_best_weights=True)\n",
    "\n",
    "callbacks_list = [checkpoint,earlystop,reduce_lr]"
   ]
  },
  {
   "cell_type": "code",
   "execution_count": 33,
   "id": "considered-certification",
   "metadata": {
    "execution": {
     "iopub.execute_input": "2021-05-17T22:20:18.658137Z",
     "iopub.status.busy": "2021-05-17T22:20:18.657372Z",
     "iopub.status.idle": "2021-05-18T02:03:15.696476Z",
     "shell.execute_reply": "2021-05-18T02:03:15.695799Z"
    },
    "papermill": {
     "duration": 13383.425359,
     "end_time": "2021-05-18T02:03:15.696619",
     "exception": false,
     "start_time": "2021-05-17T22:20:12.271260",
     "status": "completed"
    },
    "tags": []
   },
   "outputs": [
    {
     "name": "stdout",
     "output_type": "stream",
     "text": [
      "Epoch 1/10\n",
      "3308/3308 [==============================] - 1500s 447ms/step - loss: 0.2208 - accuracy: 0.9278 - val_loss: 0.1150 - val_accuracy: 0.9712\n",
      "\n",
      "Epoch 00001: saving model to best_model.hdf5\n",
      "Epoch 2/10\n",
      "3308/3308 [==============================] - 1483s 448ms/step - loss: 0.1694 - accuracy: 0.9444 - val_loss: 0.1201 - val_accuracy: 0.9699\n",
      "\n",
      "Epoch 00002: saving model to best_model.hdf5\n",
      "Epoch 3/10\n",
      "3308/3308 [==============================] - 1477s 446ms/step - loss: 0.1620 - accuracy: 0.9457 - val_loss: 0.1073 - val_accuracy: 0.9725\n",
      "\n",
      "Epoch 00003: saving model to best_model.hdf5\n",
      "Epoch 4/10\n",
      "3308/3308 [==============================] - 1484s 448ms/step - loss: 0.1541 - accuracy: 0.9502 - val_loss: 0.1158 - val_accuracy: 0.9734\n",
      "\n",
      "Epoch 00004: saving model to best_model.hdf5\n",
      "Epoch 5/10\n",
      "3308/3308 [==============================] - 1480s 447ms/step - loss: 0.1214 - accuracy: 0.9596 - val_loss: 0.1079 - val_accuracy: 0.9725\n",
      "\n",
      "Epoch 00005: saving model to best_model.hdf5\n",
      "\n",
      "Epoch 00005: ReduceLROnPlateau reducing learning rate to 2.9999999242136253e-06.\n",
      "Epoch 6/10\n",
      "3308/3308 [==============================] - 1480s 448ms/step - loss: 0.1183 - accuracy: 0.9596 - val_loss: 0.1071 - val_accuracy: 0.9751\n",
      "\n",
      "Epoch 00006: saving model to best_model.hdf5\n",
      "Epoch 7/10\n",
      "3308/3308 [==============================] - 1479s 447ms/step - loss: 0.1078 - accuracy: 0.9644 - val_loss: 0.1154 - val_accuracy: 0.9725\n",
      "\n",
      "Epoch 00007: saving model to best_model.hdf5\n",
      "Epoch 8/10\n",
      "3308/3308 [==============================] - 1473s 445ms/step - loss: 0.0980 - accuracy: 0.9652 - val_loss: 0.1073 - val_accuracy: 0.9751\n",
      "\n",
      "Epoch 00008: saving model to best_model.hdf5\n",
      "\n",
      "Epoch 00008: ReduceLROnPlateau reducing learning rate to 8.999999636216671e-07.\n",
      "Epoch 9/10\n",
      "3308/3308 [==============================] - 1484s 449ms/step - loss: 0.1005 - accuracy: 0.9643 - val_loss: 0.1057 - val_accuracy: 0.9721\n",
      "\n",
      "Epoch 00009: saving model to best_model.hdf5\n"
     ]
    }
   ],
   "source": [
    "history = model2.fit(\n",
    "        train_generator_2,\n",
    "        steps_per_epoch = train_generator_2.samples//train_generator_2.batch_size,\n",
    "        validation_data = test_generator_2, \n",
    "        validation_steps = test_generator_2.samples//test_generator_2.batch_size,\n",
    "        epochs = EPOCHS,\n",
    "        callbacks = callbacks_list\n",
    ")"
   ]
  },
  {
   "cell_type": "code",
   "execution_count": 34,
   "id": "attached-distribution",
   "metadata": {
    "execution": {
     "iopub.execute_input": "2021-05-18T02:03:43.999949Z",
     "iopub.status.busy": "2021-05-18T02:03:43.998461Z",
     "iopub.status.idle": "2021-05-18T02:03:44.000773Z",
     "shell.execute_reply": "2021-05-18T02:03:44.001208Z"
    },
    "papermill": {
     "duration": 14.363465,
     "end_time": "2021-05-18T02:03:44.001347",
     "exception": false,
     "start_time": "2021-05-18T02:03:29.637882",
     "status": "completed"
    },
    "tags": []
   },
   "outputs": [],
   "source": [
    "from sklearn.metrics import accuracy_score"
   ]
  },
  {
   "cell_type": "code",
   "execution_count": 35,
   "id": "oriented-russell",
   "metadata": {
    "execution": {
     "iopub.execute_input": "2021-05-18T02:04:12.176377Z",
     "iopub.status.busy": "2021-05-18T02:04:12.175661Z",
     "iopub.status.idle": "2021-05-18T02:04:12.178430Z",
     "shell.execute_reply": "2021-05-18T02:04:12.178818Z"
    },
    "papermill": {
     "duration": 14.004892,
     "end_time": "2021-05-18T02:04:12.178948",
     "exception": false,
     "start_time": "2021-05-18T02:03:58.174056",
     "status": "completed"
    },
    "tags": []
   },
   "outputs": [
    {
     "data": {
      "text/plain": [
       "6675"
      ]
     },
     "execution_count": 35,
     "metadata": {},
     "output_type": "execute_result"
    }
   ],
   "source": [
    "test_sub_generator.samples"
   ]
  },
  {
   "cell_type": "code",
   "execution_count": 36,
   "id": "engaged-barrel",
   "metadata": {
    "execution": {
     "iopub.execute_input": "2021-05-18T02:04:40.644513Z",
     "iopub.status.busy": "2021-05-18T02:04:40.643489Z",
     "iopub.status.idle": "2021-05-18T02:06:57.723392Z",
     "shell.execute_reply": "2021-05-18T02:06:57.679342Z"
    },
    "papermill": {
     "duration": 151.189934,
     "end_time": "2021-05-18T02:06:57.723553",
     "exception": false,
     "start_time": "2021-05-18T02:04:26.533619",
     "status": "completed"
    },
    "tags": []
   },
   "outputs": [
    {
     "name": "stderr",
     "output_type": "stream",
     "text": [
      "/opt/conda/lib/python3.7/site-packages/tensorflow/python/keras/engine/training.py:1905: UserWarning: `Model.predict_generator` is deprecated and will be removed in a future version. Please use `Model.predict`, which supports generators.\n",
      "  warnings.warn('`Model.predict_generator` is deprecated and '\n"
     ]
    },
    {
     "name": "stdout",
     "output_type": "stream",
     "text": [
      "1669/1669 [==============================] - 124s 73ms/step\n"
     ]
    }
   ],
   "source": [
    "test_sub_generator.reset()\n",
    "predictions = model2.predict_generator(test_sub_generator, steps=len(test_sub_generator), verbose=1) \n",
    "predictions = np.argmax(predictions, axis=-1) \n",
    "label_map = (train_generator_2.class_indices)\n",
    "label_map = dict((v,k) for k,v in label_map.items()) #flip k,v\n",
    "predictions = [label_map[k] for k in predictions]"
   ]
  },
  {
   "cell_type": "code",
   "execution_count": 37,
   "id": "falling-mailman",
   "metadata": {
    "execution": {
     "iopub.execute_input": "2021-05-18T02:07:27.061851Z",
     "iopub.status.busy": "2021-05-18T02:07:27.061325Z",
     "iopub.status.idle": "2021-05-18T02:07:27.213815Z",
     "shell.execute_reply": "2021-05-18T02:07:27.213345Z"
    },
    "papermill": {
     "duration": 14.692317,
     "end_time": "2021-05-18T02:07:27.213937",
     "exception": false,
     "start_time": "2021-05-18T02:07:12.521620",
     "status": "completed"
    },
    "tags": []
   },
   "outputs": [
    {
     "name": "stdout",
     "output_type": "stream",
     "text": [
      "Save submit\n"
     ]
    }
   ],
   "source": [
    "filenames_with_dir=test_sub_generator.filenames\n",
    "submission = pd.DataFrame({'Id':filenames_with_dir, 'Category':predictions}, columns=['Id', 'Category'])\n",
    "submission['Id'] = submission['Id'].replace('test_upload/','')\n",
    "submission.to_csv('submission.csv', index=False)\n",
    "print('Save submit')"
   ]
  },
  {
   "cell_type": "code",
   "execution_count": 38,
   "id": "commercial-blocking",
   "metadata": {
    "execution": {
     "iopub.execute_input": "2021-05-18T02:07:56.658181Z",
     "iopub.status.busy": "2021-05-18T02:07:56.657406Z",
     "iopub.status.idle": "2021-05-18T02:07:57.417639Z",
     "shell.execute_reply": "2021-05-18T02:07:57.416986Z"
    },
    "papermill": {
     "duration": 15.33334,
     "end_time": "2021-05-18T02:07:57.417772",
     "exception": false,
     "start_time": "2021-05-18T02:07:42.084432",
     "status": "completed"
    },
    "tags": []
   },
   "outputs": [],
   "source": [
    "import shutil\n",
    "shutil.rmtree(\"/kaggle/working/car/test_upload\")\n",
    "shutil.rmtree(\"/kaggle/working/car/train\")"
   ]
  },
  {
   "cell_type": "code",
   "execution_count": 39,
   "id": "wound-reply",
   "metadata": {
    "execution": {
     "iopub.execute_input": "2021-05-18T02:08:26.970702Z",
     "iopub.status.busy": "2021-05-18T02:08:26.969841Z",
     "iopub.status.idle": "2021-05-18T02:08:26.974067Z",
     "shell.execute_reply": "2021-05-18T02:08:26.974433Z"
    },
    "papermill": {
     "duration": 14.427236,
     "end_time": "2021-05-18T02:08:26.974582",
     "exception": false,
     "start_time": "2021-05-18T02:08:12.547346",
     "status": "completed"
    },
    "tags": []
   },
   "outputs": [
    {
     "data": {
      "text/html": [
       "<div>\n",
       "<style scoped>\n",
       "    .dataframe tbody tr th:only-of-type {\n",
       "        vertical-align: middle;\n",
       "    }\n",
       "\n",
       "    .dataframe tbody tr th {\n",
       "        vertical-align: top;\n",
       "    }\n",
       "\n",
       "    .dataframe thead th {\n",
       "        text-align: right;\n",
       "    }\n",
       "</style>\n",
       "<table border=\"1\" class=\"dataframe\">\n",
       "  <thead>\n",
       "    <tr style=\"text-align: right;\">\n",
       "      <th></th>\n",
       "      <th>Id</th>\n",
       "      <th>Category</th>\n",
       "    </tr>\n",
       "  </thead>\n",
       "  <tbody>\n",
       "    <tr>\n",
       "      <th>0</th>\n",
       "      <td>305108.jpg</td>\n",
       "      <td>7</td>\n",
       "    </tr>\n",
       "    <tr>\n",
       "      <th>1</th>\n",
       "      <td>295075.jpg</td>\n",
       "      <td>6</td>\n",
       "    </tr>\n",
       "    <tr>\n",
       "      <th>2</th>\n",
       "      <td>31197.jpg</td>\n",
       "      <td>4</td>\n",
       "    </tr>\n",
       "    <tr>\n",
       "      <th>3</th>\n",
       "      <td>93598.jpg</td>\n",
       "      <td>7</td>\n",
       "    </tr>\n",
       "    <tr>\n",
       "      <th>4</th>\n",
       "      <td>87877.jpg</td>\n",
       "      <td>7</td>\n",
       "    </tr>\n",
       "  </tbody>\n",
       "</table>\n",
       "</div>"
      ],
      "text/plain": [
       "           Id Category\n",
       "0  305108.jpg        7\n",
       "1  295075.jpg        6\n",
       "2   31197.jpg        4\n",
       "3   93598.jpg        7\n",
       "4   87877.jpg        7"
      ]
     },
     "execution_count": 39,
     "metadata": {},
     "output_type": "execute_result"
    }
   ],
   "source": [
    "submission.head()"
   ]
  },
  {
   "cell_type": "code",
   "execution_count": 40,
   "id": "coral-exclusion",
   "metadata": {
    "execution": {
     "iopub.execute_input": "2021-05-18T02:08:56.433752Z",
     "iopub.status.busy": "2021-05-18T02:08:56.433230Z",
     "iopub.status.idle": "2021-05-18T02:08:56.451915Z",
     "shell.execute_reply": "2021-05-18T02:08:56.451517Z"
    },
    "papermill": {
     "duration": 14.549656,
     "end_time": "2021-05-18T02:08:56.452064",
     "exception": false,
     "start_time": "2021-05-18T02:08:41.902408",
     "status": "completed"
    },
    "tags": []
   },
   "outputs": [],
   "source": [
    "submission.to_csv(PATH+'submission2.csv', index=False)"
   ]
  },
  {
   "cell_type": "code",
   "execution_count": null,
   "id": "naked-morrison",
   "metadata": {
    "papermill": {
     "duration": 14.558463,
     "end_time": "2021-05-18T02:09:25.913112",
     "exception": false,
     "start_time": "2021-05-18T02:09:11.354649",
     "status": "completed"
    },
    "tags": []
   },
   "outputs": [],
   "source": []
  }
 ],
 "metadata": {
  "kernelspec": {
   "display_name": "Python 3",
   "language": "python",
   "name": "python3"
  },
  "language_info": {
   "codemirror_mode": {
    "name": "ipython",
    "version": 3
   },
   "file_extension": ".py",
   "mimetype": "text/x-python",
   "name": "python",
   "nbconvert_exporter": "python",
   "pygments_lexer": "ipython3",
   "version": "3.7.10"
  },
  "papermill": {
   "default_parameters": {},
   "duration": 22400.599754,
   "end_time": "2021-05-18T02:09:43.779081",
   "environment_variables": {},
   "exception": null,
   "input_path": "__notebook__.ipynb",
   "output_path": "__notebook__.ipynb",
   "parameters": {},
   "start_time": "2021-05-17T19:56:23.179327",
   "version": "2.3.3"
  }
 },
 "nbformat": 4,
 "nbformat_minor": 5
}
