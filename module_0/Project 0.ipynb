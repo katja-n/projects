{
 "cells": [
  {
   "cell_type": "code",
   "execution_count": 2,
   "metadata": {},
   "outputs": [
    {
     "name": "stdout",
     "output_type": "stream",
     "text": [
      "Загадано число от 10 до 100\n",
      "Ваш алгоритм угадывает число в среднем за 4 попытки\n"
     ]
    },
    {
     "data": {
      "text/plain": [
       "4"
      ]
     },
     "execution_count": 2,
     "metadata": {},
     "output_type": "execute_result"
    }
   ],
   "source": [
    "import numpy as np\n",
    "count = 0   # счетчик попыток\n",
    "number = np.random.randint(0,100)  # загадали число\n",
    "print (\"Загадано число от 10 до 100\")\n",
    "\n",
    "\n",
    "def game_core_v4(number):\n",
    "    '''Сначала устанавливаем любое random число, создаем на его основе\n",
    "    и на основе загаданного числа два списка, сначала сравниваем числа\n",
    "    и, если они отличаются друг от друга в два раза и более, увеличиваем\n",
    "    /уменьшаем в два раза, затем уменьшаем или увеличиваем каждое число\n",
    "    в списке в зависимости от того, больше оно или меньше нужного.\n",
    "       Функция принимает загаданное число и возвращает число попыток'''\n",
    "    number_list = [int(digit) for digit in str(number)]    \n",
    "    # формируем список из загаданного числа\n",
    "    count = 1\n",
    "    predict_list = [np.random.randint(0,10) for digit in number_list]\n",
    "    # создаем второй список из random чисел    \n",
    "    while predict_list != number_list:\n",
    "    # до тех пор, пока оба списка не станут эквивалентны    \n",
    "        for i in range (0,len(number_list)):        \n",
    "            while predict_list[i] != number_list[i]:            \n",
    "                if predict_list[i] == 0:\n",
    "                    count += 1\n",
    "                    predict_list[i] += 1                \n",
    "                elif predict_list[i] > number_list[i]:\n",
    "                    count += 1\n",
    "                    if predict_list[i]//2 >= number_list[i]:\n",
    "                        predict_list[i] = predict_list[i]//2\n",
    "                    else:\n",
    "                        predict_list[i] -= 1                    \n",
    "                elif predict_list[i] < number_list[i]:\n",
    "                    count += 1 \n",
    "                    if predict_list[i]*2 <= number_list[i]:\n",
    "                        predict_list[i] = predict_list[i]*2\n",
    "                    else:\n",
    "                        predict_list[i] += 1                                       \n",
    "    return(count) # выход если угадали\n",
    "\n",
    "\n",
    "def score_game(game_core_v4):\n",
    "    '''Запускаем игру 1000 раз, чтобы узнать, как быстро игра угадывает число'''\n",
    "    count_ls = []\n",
    "    np.random.seed(1) # фиксируем RANDOM SEED\n",
    "    random_array = np.random.randint(1,101, size=(1000))\n",
    "    for number in random_array:\n",
    "        count_ls.append(game_core_v4(number))\n",
    "    score = int(np.mean(count_ls))\n",
    "    if score<=4:\n",
    "        print(f\"Ваш алгоритм угадывает число в среднем за {score} попытки\")\n",
    "    else:\n",
    "        print(f\"Ваш алгоритм угадывает число в среднем за {score} попыток\")\n",
    "    return(score)\n",
    "\n",
    "\n",
    "score_game(game_core_v4)"
   ]
  },
  {
   "cell_type": "code",
   "execution_count": null,
   "metadata": {},
   "outputs": [],
   "source": []
  },
  {
   "cell_type": "code",
   "execution_count": null,
   "metadata": {},
   "outputs": [],
   "source": []
  },
  {
   "cell_type": "code",
   "execution_count": null,
   "metadata": {},
   "outputs": [],
   "source": []
  }
 ],
 "metadata": {
  "kernelspec": {
   "display_name": "Python 3",
   "language": "python",
   "name": "python3"
  },
  "language_info": {
   "codemirror_mode": {
    "name": "ipython",
    "version": 3
   },
   "file_extension": ".py",
   "mimetype": "text/x-python",
   "name": "python",
   "nbconvert_exporter": "python",
   "pygments_lexer": "ipython3",
   "version": "3.8.3"
  }
 },
 "nbformat": 4,
 "nbformat_minor": 4
}
