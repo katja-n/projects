{
 "cells": [
  {
   "cell_type": "code",
   "execution_count": 7,
   "metadata": {},
   "outputs": [],
   "source": [
    "#импортируем необходимые библиотеки\n",
    "import pandas as pd\n",
    "import numpy as np\n",
    "import matplotlib.pyplot as plt\n",
    "from sklearn.metrics import roc_curve, roc_auc_score, classification_report, confusion_matrix\n",
    "from sklearn.linear_model import LogisticRegression\n",
    "from sklearn.model_selection import train_test_split\n",
    "from sklearn.preprocessing import StandardScaler, RobustScaler\n",
    "from imblearn.ensemble import BalancedRandomForestClassifier\n",
    "from imblearn.over_sampling import SMOTE\n",
    "import sklearn.metrics as metrics\n",
    "import matplotlib.pyplot as plt\n",
    "from sklearn.ensemble import RandomForestClassifier\n",
    "import seaborn as sns\n",
    "from imblearn.over_sampling import SMOTE"
   ]
  },
  {
   "cell_type": "code",
   "execution_count": 2,
   "metadata": {},
   "outputs": [],
   "source": [
    "# зафиксируем RANDOM SEED\n",
    "RANDOM_SEED = 42"
   ]
  },
  {
   "cell_type": "code",
   "execution_count": 3,
   "metadata": {},
   "outputs": [],
   "source": [
    "# зафиксируем версию пакетов:\n",
    "!pip freeze > requirements.txt"
   ]
  },
  {
   "cell_type": "code",
   "execution_count": 4,
   "metadata": {},
   "outputs": [],
   "source": [
    "# функции\n",
    "\n",
    "def PlotConfusionMatrix(y_test, pred, y_test_0, y_test_1):\n",
    "    \"\"\"Функция для построения confusion matrix\"\"\"\n",
    "    cfn_matrix = confusion_matrix(y_test, pred)\n",
    "    cfn_norm_matrix = np.array(\n",
    "    [[1.0 / y_test_0, 1.0/y_test_0], [1.0/y_test_1, 1.0/y_test_1]])\n",
    "    norm_cfn_matrix = cfn_matrix * cfn_norm_matrix\n",
    "    fig = plt.figure(figsize=(6,4))\n",
    "    sns.heatmap(norm_cfn_matrix, cmap='coolwarm_r',\n",
    "            linewidths=0.5, annot=True)\n",
    "    plt.title('Normalized Confusion Matrix')\n",
    "    plt.ylabel('Real Classes')\n",
    "    plt.xlabel('Predicted Classes')\n",
    "    plt.show()\n",
    "    print('---Classification Report---')\n",
    "    print(classification_report(y_test, pred, labels=np.unique(pred)))\n",
    "\n",
    "def AUC_ROC(model):\n",
    "    \"\"\"Функция для построения ROC-кривой и расчета AUC\"\"\"\n",
    "    # посчитаем fpr, tpr для всех thresholds\n",
    "    probs = model.predict_proba(x_test)\n",
    "    preds = probs[:,1]\n",
    "    fpr, tpr, threshold = metrics.roc_curve(y_test, preds)\n",
    "    roc_auc = metrics.auc(fpr, tpr)\n",
    "    plt.title('Receiver Operating Characteristic')\n",
    "    plt.plot(fpr, tpr, 'b', label = 'AUC = %0.2f' % roc_auc)\n",
    "    plt.legend(loc = 'lower right')\n",
    "    plt.plot([0, 1], [0, 1],'r--')\n",
    "    plt.xlim([0, 1])\n",
    "    plt.ylim([0, 1])\n",
    "    plt.ylabel('True Positive Rate')\n",
    "    plt.xlabel('False Positive Rate')\n",
    "    plt.show()"
   ]
  },
  {
   "cell_type": "code",
   "execution_count": 5,
   "metadata": {},
   "outputs": [],
   "source": [
    "#откроем файлы с данными\n",
    "train = pd.read_csv('train1.csv')\n",
    "test = pd.read_csv('test1.csv')\n",
    "sample_prediction = pd.read_csv('sample_prediction1.csv')"
   ]
  },
  {
   "cell_type": "code",
   "execution_count": 6,
   "metadata": {},
   "outputs": [],
   "source": [
    "# объединяем трейн и тест в один датасет\n",
    "train['sample'] = 1 # помечаем трейн\n",
    "test['sample'] = 0 # помечаем тест\n",
    "test['Y'] = 3 # заполняем Y\n",
    "data = test.append(train, sort=False).reset_index(drop=True) # объединяем"
   ]
  },
  {
   "cell_type": "code",
   "execution_count": 7,
   "metadata": {},
   "outputs": [
    {
     "name": "stdout",
     "output_type": "stream",
     "text": [
      "<class 'pandas.core.frame.DataFrame'>\n",
      "RangeIndex: 279886 entries, 0 to 279885\n",
      "Data columns (total 22 columns):\n",
      " #   Column      Non-Null Count   Dtype\n",
      "---  ------      --------------   -----\n",
      " 0   VASK0       279886 non-null  int64\n",
      " 1   VASK1       279886 non-null  int64\n",
      " 2   VASK2       279886 non-null  int64\n",
      " 3   VASK3       279886 non-null  int64\n",
      " 4   VASK4       279886 non-null  int64\n",
      " 5   VBID0       279886 non-null  int64\n",
      " 6   VBID1       279886 non-null  int64\n",
      " 7   VBID2       279886 non-null  int64\n",
      " 8   VBID3       279886 non-null  int64\n",
      " 9   VBID4       279886 non-null  int64\n",
      " 10  VASK0_PREV  279886 non-null  int64\n",
      " 11  VASK1_PREV  279886 non-null  int64\n",
      " 12  VASK2_PREV  279886 non-null  int64\n",
      " 13  VASK3_PREV  279886 non-null  int64\n",
      " 14  VASK4_PREV  279886 non-null  int64\n",
      " 15  VBID0_PREV  279886 non-null  int64\n",
      " 16  VBID1_PREV  279886 non-null  int64\n",
      " 17  VBID2_PREV  279886 non-null  int64\n",
      " 18  VBID3_PREV  279886 non-null  int64\n",
      " 19  VBID4_PREV  279886 non-null  int64\n",
      " 20  sample      279886 non-null  int64\n",
      " 21  Y           279886 non-null  int64\n",
      "dtypes: int64(22)\n",
      "memory usage: 47.0 MB\n"
     ]
    }
   ],
   "source": [
    "# посмотрим на данные\n",
    "data.info()"
   ]
  },
  {
   "cell_type": "markdown",
   "metadata": {},
   "source": [
    "#### Выводы: Датасет чистый, все значения int, пустых ячеек нет"
   ]
  },
  {
   "cell_type": "code",
   "execution_count": 8,
   "metadata": {},
   "outputs": [
    {
     "data": {
      "text/plain": [
       "Index(['VASK0', 'VASK1', 'VASK2', 'VASK3', 'VASK4', 'VBID0', 'VBID1', 'VBID2',\n",
       "       'VBID3', 'VBID4', 'VASK0_PREV', 'VASK1_PREV', 'VASK2_PREV',\n",
       "       'VASK3_PREV', 'VASK4_PREV', 'VBID0_PREV', 'VBID1_PREV', 'VBID2_PREV',\n",
       "       'VBID3_PREV', 'VBID4_PREV', 'sample', 'Y'],\n",
       "      dtype='object')"
      ]
     },
     "execution_count": 8,
     "metadata": {},
     "output_type": "execute_result"
    }
   ],
   "source": [
    "data.columns"
   ]
  },
  {
   "cell_type": "code",
   "execution_count": 9,
   "metadata": {},
   "outputs": [
    {
     "data": {
      "text/plain": [
       "0    0.659826\n",
       "3    0.333336\n",
       "1    0.006838\n",
       "Name: Y, dtype: float64"
      ]
     },
     "execution_count": 9,
     "metadata": {},
     "output_type": "execute_result"
    }
   ],
   "source": [
    "# посмотрим на значения целевой переменной\n",
    "data['Y'].value_counts(normalize=True)"
   ]
  },
  {
   "cell_type": "markdown",
   "metadata": {},
   "source": [
    "#### Выводы: Данные сильно несбалансированы, положительные исходы составляют всего 1% от выборки"
   ]
  },
  {
   "cell_type": "markdown",
   "metadata": {},
   "source": [
    "## 1. Feature Engineering"
   ]
  },
  {
   "cell_type": "code",
   "execution_count": 10,
   "metadata": {},
   "outputs": [],
   "source": [
    "# добавим в датасет спреды\n",
    "spread_columns = []\n",
    "for i in range(0,5):\n",
    "    data['SPREAD'+str(i)] = data['VASK'+str(i)]-data['VBID'+str(i)]\n",
    "    spread_columns.append('SPREAD'+str(i))"
   ]
  },
  {
   "cell_type": "code",
   "execution_count": 11,
   "metadata": {},
   "outputs": [
    {
     "data": {
      "image/png": "[encoded data removed]",
      "text/plain": [
       "<Figure size 432x288 with 1 Axes>"
      ]
     },
     "metadata": {
      "needs_background": "light"
     },
     "output_type": "display_data"
    }
   ],
   "source": [
    "# визуализируем\n",
    "for column in spread_columns:\n",
    "    sns.distplot(data[column])\n",
    "data = data.drop(spread_columns, axis=1)"
   ]
  },
  {
   "cell_type": "markdown",
   "metadata": {},
   "source": [
    "#### Визуально видно, что данные распределены нормально, но потребуется стандартизировать значения"
   ]
  },
  {
   "cell_type": "code",
   "execution_count": 12,
   "metadata": {},
   "outputs": [
    {
     "data": {
      "text/plain": [
       "Index(['VASK0', 'VASK1', 'VASK2', 'VASK3', 'VASK4', 'VBID0', 'VBID1', 'VBID2',\n",
       "       'VBID3', 'VBID4', 'VASK0_PREV', 'VASK1_PREV', 'VASK2_PREV',\n",
       "       'VASK3_PREV', 'VASK4_PREV', 'VBID0_PREV', 'VBID1_PREV', 'VBID2_PREV',\n",
       "       'VBID3_PREV', 'VBID4_PREV', 'sample', 'Y'],\n",
       "      dtype='object')"
      ]
     },
     "execution_count": 12,
     "metadata": {},
     "output_type": "execute_result"
    }
   ],
   "source": [
    "data.columns"
   ]
  },
  {
   "cell_type": "code",
   "execution_count": 13,
   "metadata": {},
   "outputs": [],
   "source": [
    "# добавим в дата-сет признак MID\n",
    "data['SPREAD0'] = (data['VASK0']-data['VBID0'])/(data['VASK0_PREV']-data['VBID0_PREV'])\n",
    "data['SPREAD1'] = (data['VASK1']-data['VBID1'])/(data['VASK1_PREV']-data['VBID1_PREV'])\n",
    "\n",
    "    \n",
    "    #data['MID_PREV'+str(i)] = (data['VASK'+str(i)+'_PREV']-data['VBID'+str(i)+'_PREV'])/2\n",
    "    #data['MID'+str(i)] = data['MID'+str(i)].replace([np.inf, -np.inf], 0).all()\n",
    "    #data['MID_PREV'+str(i)] = data['MID_PREV'+str(i)].replace([np.inf, -np.inf], 0).all()\n",
    "\n",
    "    #for i in range(0, 5):\n",
    "    #data['MID_'+str(i)] = (data['MID'+str(i)]/ data['MID_PREV'+str(i)]+1)"
   ]
  },
  {
   "cell_type": "code",
   "execution_count": 14,
   "metadata": {},
   "outputs": [],
   "source": [
    "# посчитаем volume imbalance\n",
    "data['BID_PREV'] = np.log((data['VBID0'] + data['VBID1'] + data['VBID2'] +data['VBID3'] + data['VBID4'])/(data['VBID0_PREV'] + data['VBID1_PREV'] + data['VBID2_PREV'] +data['VBID3_PREV'] + data['VBID4_PREV']))\n",
    "data['ASK_PREV'] = np.log((data['VASK0'] + data['VASK1'] + data['VASK2'] +data['VASK3'] + data['VASK4'])/(data['VASK0_PREV'] + data['VASK1_PREV'] + data['VASK2_PREV'] +data['VASK3_PREV'] + data['VASK4_PREV']))"
   ]
  },
  {
   "cell_type": "code",
   "execution_count": 15,
   "metadata": {},
   "outputs": [],
   "source": [
    "# averge_ask\n",
    "#data['AVG_ASK'] = (data['VASK0'] + data['VASK1'] + data['VASK2'] +data['VASK3'] + data['VASK4'])/5"
   ]
  },
  {
   "cell_type": "code",
   "execution_count": 16,
   "metadata": {},
   "outputs": [],
   "source": [
    "# averge_bid\n",
    "#data['AVG_BID'] = (data['VBID0'] + data['VBID1'] + data['VBID2'] +data['VBID3'] + data['VBID4'])/5"
   ]
  },
  {
   "cell_type": "code",
   "execution_count": 17,
   "metadata": {},
   "outputs": [],
   "source": [
    "# посчитаем изменения объемов спроса\n",
    "for i in range(1, 5):\n",
    "    data['ASK_CHANGE'+str(i)] = np.log(data['VASK'+str(i)]/(data['VASK'+str(i-1)]))\n",
    "    data['ASK_CH_0_'+str(i)] = np.log(data['VASK'+str(i)]/(data['VASK'+str(0)]))\n",
    "    "
   ]
  },
  {
   "cell_type": "code",
   "execution_count": 18,
   "metadata": {},
   "outputs": [],
   "source": [
    "# посчитаем изменения объемов предложения\n",
    "for i in range(1, 5):\n",
    "    data['BID_CHANGE'+str(i)] = (data['VBID'+str(i)]/(data['VBID'+str(i-1)]))\n",
    "    data['BID_CH_0'+str(i)] = (data['VBID'+str(i)]/(data['VBID'+str(0)]))\n",
    "    "
   ]
  },
  {
   "cell_type": "code",
   "execution_count": null,
   "metadata": {},
   "outputs": [],
   "source": []
  },
  {
   "cell_type": "code",
   "execution_count": 19,
   "metadata": {},
   "outputs": [],
   "source": [
    "# посчитаем соотношение\n",
    "#for i in range(0, 5):\n",
    "    #data['BID/ASK'+str(i)] = np.log(data['VBID'+str(i)]/(data['VASK'+str(i)]))"
   ]
  },
  {
   "cell_type": "code",
   "execution_count": 20,
   "metadata": {},
   "outputs": [],
   "source": [
    "# логарифмируем VASK и VBID\n",
    "#for i in range(0, 5):\n",
    "    #data['VASK'+str(i)] = np.log(data['VASK'+str(i)])\n",
    "    #data['VBID'+str(i)] = np.log(data['VBID'+str(i)])"
   ]
  },
  {
   "cell_type": "code",
   "execution_count": 21,
   "metadata": {},
   "outputs": [
    {
     "data": {
      "text/plain": [
       "Index(['VASK0', 'VASK1', 'VASK2', 'VASK3', 'VASK4', 'VBID0', 'VBID1', 'VBID2',\n",
       "       'VBID3', 'VBID4', 'VASK0_PREV', 'VASK1_PREV', 'VASK2_PREV',\n",
       "       'VASK3_PREV', 'VASK4_PREV', 'VBID0_PREV', 'VBID1_PREV', 'VBID2_PREV',\n",
       "       'VBID3_PREV', 'VBID4_PREV', 'sample', 'Y', 'SPREAD0', 'SPREAD1',\n",
       "       'BID_PREV', 'ASK_PREV', 'ASK_CHANGE1', 'ASK_CH_0_1', 'ASK_CHANGE2',\n",
       "       'ASK_CH_0_2', 'ASK_CHANGE3', 'ASK_CH_0_3', 'ASK_CHANGE4', 'ASK_CH_0_4',\n",
       "       'BID_CHANGE1', 'BID_CH_01', 'BID_CHANGE2', 'BID_CH_02', 'BID_CHANGE3',\n",
       "       'BID_CH_03', 'BID_CHANGE4', 'BID_CH_04'],\n",
       "      dtype='object')"
      ]
     },
     "execution_count": 21,
     "metadata": {},
     "output_type": "execute_result"
    }
   ],
   "source": [
    "data.columns"
   ]
  },
  {
   "cell_type": "code",
   "execution_count": 22,
   "metadata": {},
   "outputs": [],
   "source": [
    "data.replace([np.inf, -np.inf], np.nan,inplace=True)\n",
    "data = data.fillna(0)"
   ]
  },
  {
   "cell_type": "code",
   "execution_count": 23,
   "metadata": {},
   "outputs": [],
   "source": [
    "#data = data.drop(['VASK2', 'VASK3', 'VASK4', 'VBID2', 'VBID3', 'VBID4', 'VASK0_PREV', 'VASK1_PREV', 'VASK2_PREV',\n",
    "                  #'VASK3_PREV', 'VASK4_PREV', 'VBID0_PREV', 'VBID1_PREV', 'VBID2_PREV', 'VBID3_PREV', 'VBID4_PREV', 'BID_PREV_CHANGE3', 'BID_PREV_CHANGE1', 'BID_PREV_CHANGE4', 'ASK_CHANGE2', 'ASK_PREV_CHANGE2', 'BID_CHANGE4', 'ASK_CHANGE4',\n",
    "                  #'BID_PREV_CHANGE2', 'ASK_PREV_CHANGE1', 'ASK_PREV_CHANGE4', 'BID_CHANGE3', 'ASK_CHANGE3', 'ASK_PREV_CHANGE3', 'BID_CHANGE2'], axis=1)"
   ]
  },
  {
   "cell_type": "code",
   "execution_count": 24,
   "metadata": {},
   "outputs": [],
   "source": [
    "\n",
    "#data = data[['VASK0','VBID0','SPREAD0','SPREAD1','BID_CHANGE1','BID_CH_01','BID_CH_02','ASK_CH_0_1','ASK_CH_0_2','ASK_CHANGE1','sample', 'Y']]\n",
    "\n"
   ]
  },
  {
   "cell_type": "code",
   "execution_count": 25,
   "metadata": {},
   "outputs": [],
   "source": [
    "data = data[['VASK0','VBID0','SPREAD0','BID_CHANGE1','BID_CH_02','ASK_CH_0_2','ASK_CHANGE1','sample', 'Y']]"
   ]
  },
  {
   "cell_type": "code",
   "execution_count": 26,
   "metadata": {},
   "outputs": [],
   "source": [
    "# удалим признаки, которые не оказывают существенного влияния на качество модели, но имеют сильную корреляцию с признаками,\n",
    "# которые мы сгенерили на их основе\n",
    "#data = data[['VASK0', 'VBID0', 'LOGBID1', 'LOGASK1', 'LOGBID2', 'BID/ASK0', 'LOGBID3', 'LOGASK2', 'LOGBID4', 'BID/ASK2', 'LOGASK4', 'LOGBID3',\n",
    "             #'BID/ASK1', 'VOL_IMB', 'AVG_ASK', 'AVG_BID','sample', 'Y']]"
   ]
  },
  {
   "cell_type": "code",
   "execution_count": null,
   "metadata": {},
   "outputs": [],
   "source": []
  },
  {
   "cell_type": "code",
   "execution_count": 27,
   "metadata": {},
   "outputs": [
    {
     "name": "stdout",
     "output_type": "stream",
     "text": [
      "<class 'pandas.core.frame.DataFrame'>\n",
      "RangeIndex: 279886 entries, 0 to 279885\n",
      "Data columns (total 9 columns):\n",
      " #   Column       Non-Null Count   Dtype  \n",
      "---  ------       --------------   -----  \n",
      " 0   VASK0        279886 non-null  int64  \n",
      " 1   VBID0        279886 non-null  int64  \n",
      " 2   SPREAD0      279886 non-null  float64\n",
      " 3   BID_CHANGE1  279886 non-null  float64\n",
      " 4   BID_CH_02    279886 non-null  float64\n",
      " 5   ASK_CH_0_2   279886 non-null  float64\n",
      " 6   ASK_CHANGE1  279886 non-null  float64\n",
      " 7   sample       279886 non-null  int64  \n",
      " 8   Y            279886 non-null  int64  \n",
      "dtypes: float64(5), int64(4)\n",
      "memory usage: 19.2 MB\n"
     ]
    }
   ],
   "source": [
    "data.info()"
   ]
  },
  {
   "cell_type": "code",
   "execution_count": null,
   "metadata": {},
   "outputs": [],
   "source": []
  },
  {
   "cell_type": "markdown",
   "metadata": {},
   "source": [
    "## 2. Baseline"
   ]
  },
  {
   "cell_type": "code",
   "execution_count": 28,
   "metadata": {},
   "outputs": [],
   "source": [
    "# в качестве baseline построим plain vanilla модель логистической регрессии на имеющихся features\n",
    "# предпроцессинг\n",
    "train_data = data.query('sample == 1').drop(['sample'], axis=1)\n",
    "test_data = data.query('sample == 0').drop(['sample'], axis=1)\n",
    "test_data = test_data.drop(['Y'], axis=1)\n",
    "# выделяем целевую переменную\n",
    "y = train_data['Y'].values\n",
    "X = train_data.drop(['Y'], axis=1)"
   ]
  },
  {
   "cell_type": "code",
   "execution_count": 29,
   "metadata": {},
   "outputs": [],
   "source": [
    "# делим трейн на обучающую и тестовую выборку\n",
    "x_train,x_test,y_train,y_test = train_test_split(X, y, test_size=0.3, random_state=RANDOM_SEED)"
   ]
  },
  {
   "cell_type": "code",
   "execution_count": 30,
   "metadata": {},
   "outputs": [],
   "source": [
    "# посчитаем кол-во 0 и 1 на тесте\n",
    "y_test_0 = np.sum(y_test==0)\n",
    "y_test_1 = np.sum(y_test==1)"
   ]
  },
  {
   "cell_type": "code",
   "execution_count": 31,
   "metadata": {},
   "outputs": [
    {
     "data": {
      "image/png": "[encoded data removed]",
      "text/plain": [
       "<Figure size 432x288 with 2 Axes>"
      ]
     },
     "metadata": {
      "needs_background": "light"
     },
     "output_type": "display_data"
    },
    {
     "name": "stdout",
     "output_type": "stream",
     "text": [
      "---Classification Report---\n",
      "              precision    recall  f1-score   support\n",
      "\n",
      "           0       0.99      1.00      0.99     55412\n",
      "           1       0.07      0.00      0.00       565\n",
      "\n",
      "    accuracy                           0.99     55977\n",
      "   macro avg       0.53      0.50      0.50     55977\n",
      "weighted avg       0.98      0.99      0.98     55977\n",
      "\n"
     ]
    }
   ],
   "source": [
    "# обучаем модель\n",
    "lr_model = LogisticRegression(max_iter=1500, random_state=RANDOM_SEED)\n",
    "lr_model.fit(x_train,y_train)\n",
    "# предсказываем значения целевой переменной\n",
    "pred = lr_model.predict(x_test)\n",
    "# построим Confusion matrix\n",
    "PlotConfusionMatrix(y_test,pred,y_test_0,y_test_1)"
   ]
  },
  {
   "cell_type": "markdown",
   "metadata": {},
   "source": [
    "#### Выводы: для несбалансированных данных ожидаемо plain vanilla модель хорошо предсказывает отрицательные исходы (f1-score = 0.99) и очень плохо положительные, что дает взвешенный результат 0.50, что аналогично random choice"
   ]
  },
  {
   "cell_type": "code",
   "execution_count": 32,
   "metadata": {},
   "outputs": [
    {
     "data": {
      "image/png": "[encoded data removed]",
      "text/plain": [
       "<Figure size 432x288 with 1 Axes>"
      ]
     },
     "metadata": {
      "needs_background": "light"
     },
     "output_type": "display_data"
    }
   ],
   "source": [
    "# построим ROC-кривую и посчитаем AUC\n",
    "AUC_ROC(lr_model)"
   ]
  },
  {
   "cell_type": "markdown",
   "metadata": {},
   "source": [
    "#### AUC базовой модели составляет 0.63 - попробуем его улучшить"
   ]
  },
  {
   "cell_type": "markdown",
   "metadata": {},
   "source": [
    "## 3. Логистическая регрессия"
   ]
  },
  {
   "cell_type": "code",
   "execution_count": 33,
   "metadata": {},
   "outputs": [],
   "source": [
    "# стандартизируем данные, используя Standard scaler\n",
    "#st_scaler = RobustScaler()\n",
    "#x_train = st_scaler.fit_transform(x_train)\n",
    "#x_test = st_scaler.transform(x_test)"
   ]
  },
  {
   "cell_type": "code",
   "execution_count": 34,
   "metadata": {},
   "outputs": [],
   "source": [
    "# попробуем решить проблему несбалансированных данных при помощи oversamling\n",
    "# применим SMOTE, который сгенерит доп. положительные исходы на трейне\n",
    "oversample = SMOTE()\n",
    "x_train_smote, y_train_smote = oversample.fit_resample(x_train, y_train)"
   ]
  },
  {
   "cell_type": "code",
   "execution_count": 35,
   "metadata": {},
   "outputs": [],
   "source": [
    "import lightgbm as lgb\n",
    "lgb_train = lgb.Dataset(x_train_smote, y_train_smote)\n",
    "lgb_eval = lgb.Dataset(x_test, y_test, reference=lgb_train)"
   ]
  },
  {
   "cell_type": "code",
   "execution_count": 36,
   "metadata": {},
   "outputs": [],
   "source": [
    "#X.columns[[0,1,10,2,13,18,14,4,17,20,9,15,19]]"
   ]
  },
  {
   "cell_type": "code",
   "execution_count": null,
   "metadata": {},
   "outputs": [],
   "source": []
  },
  {
   "cell_type": "code",
   "execution_count": null,
   "metadata": {},
   "outputs": [],
   "source": [
    "params = {\n",
    "    'task': 'train',\n",
    "    'boosting_type': 'gbdt',\n",
    "    'objective': 'binary',\n",
    "    'metric': {'auc'},\n",
    "    'nthread': -1,\n",
    "    'feature_fraction': 0.4,\n",
    "    'num_leaves': 50,\n",
    "    'verbose': 0\n",
    "}\n",
    "\n",
    "# train\n",
    "gbm = lgb.train(params,\n",
    "                lgb_train,\n",
    "                num_boost_round=200,\n",
    "                valid_sets=lgb_eval,\n",
    "                early_stopping_rounds=20)"
   ]
  },
  {
   "cell_type": "code",
   "execution_count": 38,
   "metadata": {},
   "outputs": [
    {
     "data": {
      "image/png": "[encoded data removed]",
      "text/plain": [
       "<Figure size 432x288 with 2 Axes>"
      ]
     },
     "metadata": {
      "needs_background": "light"
     },
     "output_type": "display_data"
    },
    {
     "name": "stdout",
     "output_type": "stream",
     "text": [
      "---Classification Report---\n",
      "              precision    recall  f1-score   support\n",
      "\n",
      "           0       1.00      0.86      0.92     55412\n",
      "           1       0.05      0.78      0.10       565\n",
      "\n",
      "    accuracy                           0.86     55977\n",
      "   macro avg       0.53      0.82      0.51     55977\n",
      "weighted avg       0.99      0.86      0.91     55977\n",
      "\n"
     ]
    }
   ],
   "source": [
    "# построим модель\n",
    "lr_model = LogisticRegression(max_iter=1500, random_state=RANDOM_SEED)\n",
    "lr_model.fit(x_train_smote, y_train_smote)\n",
    "pred = lr_model.predict(x_test)\n",
    "PlotConfusionMatrix(y_test,pred,y_test_0,y_test_1)"
   ]
  },
  {
   "cell_type": "markdown",
   "metadata": {},
   "source": [
    "#### Модель стала работать на порядок лучше для положительных исходов"
   ]
  },
  {
   "cell_type": "code",
   "execution_count": 39,
   "metadata": {},
   "outputs": [
    {
     "data": {
      "image/png": "[encoded data removed]",
      "text/plain": [
       "<Figure size 432x288 with 1 Axes>"
      ]
     },
     "metadata": {
      "needs_background": "light"
     },
     "output_type": "display_data"
    }
   ],
   "source": [
    "# построим ROC-кривую и посчитаем AUC\n",
    "AUC_ROC(lr_model)"
   ]
  },
  {
   "cell_type": "markdown",
   "metadata": {},
   "source": [
    "#### Внешний вид кривой и AUC не изменились"
   ]
  },
  {
   "cell_type": "markdown",
   "metadata": {},
   "source": [
    "## 5. Balanced Random Forest Classifier"
   ]
  },
  {
   "cell_type": "code",
   "execution_count": 40,
   "metadata": {},
   "outputs": [
    {
     "data": {
      "image/png": "[encoded data removed]",
      "text/plain": [
       "<Figure size 432x288 with 2 Axes>"
      ]
     },
     "metadata": {
      "needs_background": "light"
     },
     "output_type": "display_data"
    },
    {
     "name": "stdout",
     "output_type": "stream",
     "text": [
      "---Classification Report---\n",
      "              precision    recall  f1-score   support\n",
      "\n",
      "           0       1.00      0.82      0.90     55412\n",
      "           1       0.05      0.84      0.09       565\n",
      "\n",
      "    accuracy                           0.82     55977\n",
      "   macro avg       0.52      0.83      0.49     55977\n",
      "weighted avg       0.99      0.82      0.89     55977\n",
      "\n"
     ]
    }
   ],
   "source": [
    "# строим модель Balanced Random Forest Classifier из библиотеки imblearn\n",
    "model_brf = BalancedRandomForestClassifier(max_features=None, random_state=RANDOM_SEED)\n",
    "model_brf.fit(x_train, y_train)\n",
    "pred = model_brf.predict(x_test)\n",
    "PlotConfusionMatrix(y_test, pred, y_test_0, y_test_1)"
   ]
  },
  {
   "cell_type": "code",
   "execution_count": 41,
   "metadata": {},
   "outputs": [
    {
     "data": {
      "image/png": "[encoded data removed]",
      "text/plain": [
       "<Figure size 432x288 with 1 Axes>"
      ]
     },
     "metadata": {
      "needs_background": "light"
     },
     "output_type": "display_data"
    }
   ],
   "source": [
    "# построим ROC-кривую и посчитаем AUC\n",
    "AUC_ROC(model_brf)"
   ]
  },
  {
   "cell_type": "markdown",
   "metadata": {},
   "source": [
    "#### Значение AUC 0.88, confusion matrix выглядит лучше, чем в предыдущей модели. Это лучший результат, которого удалось достичь в ходе эксперимента"
   ]
  },
  {
   "cell_type": "code",
   "execution_count": 42,
   "metadata": {},
   "outputs": [
    {
     "data": {
      "text/plain": [
       "BID_CHANGE1    0.186372\n",
       "VASK0          0.172131\n",
       "VBID0          0.153375\n",
       "ASK_CHANGE1    0.151807\n",
       "SPREAD0        0.122964\n",
       "BID_CH_02      0.109061\n",
       "ASK_CH_0_2     0.104289\n",
       "dtype: float64"
      ]
     },
     "execution_count": 42,
     "metadata": {},
     "output_type": "execute_result"
    }
   ],
   "source": [
    "# посмотрим на feature importances\n",
    "feat_importances = pd.Series(model_brf.feature_importances_, index=X.columns)\n",
    "feat_importances.nlargest(40)"
   ]
  },
  {
   "cell_type": "markdown",
   "metadata": {},
   "source": [
    "### Общие выводы: для дальнейшего улучшения модели необходимо подробнее посмотреть на книгу заявок (\"стакан\"), т.к. не только объемы могут иметь значение, но и количество и время выставления заявок, например"
   ]
  },
  {
   "cell_type": "markdown",
   "metadata": {},
   "source": [
    "## 6. Submission"
   ]
  },
  {
   "cell_type": "code",
   "execution_count": 43,
   "metadata": {},
   "outputs": [],
   "source": [
    "predict_submission = model_brf.predict(test_data)"
   ]
  },
  {
   "cell_type": "code",
   "execution_count": 44,
   "metadata": {},
   "outputs": [
    {
     "data": {
      "text/plain": [
       "array([0, 1, 0, ..., 0, 0, 0], dtype=int64)"
      ]
     },
     "execution_count": 44,
     "metadata": {},
     "output_type": "execute_result"
    }
   ],
   "source": [
    "predict_submission"
   ]
  },
  {
   "cell_type": "code",
   "execution_count": 45,
   "metadata": {},
   "outputs": [
    {
     "data": {
      "text/html": [
       "<div>\n",
       "<style scoped>\n",
       "    .dataframe tbody tr th:only-of-type {\n",
       "        vertical-align: middle;\n",
       "    }\n",
       "\n",
       "    .dataframe tbody tr th {\n",
       "        vertical-align: top;\n",
       "    }\n",
       "\n",
       "    .dataframe thead th {\n",
       "        text-align: right;\n",
       "    }\n",
       "</style>\n",
       "<table border=\"1\" class=\"dataframe\">\n",
       "  <thead>\n",
       "    <tr style=\"text-align: right;\">\n",
       "      <th></th>\n",
       "      <th>Y_PRED</th>\n",
       "    </tr>\n",
       "  </thead>\n",
       "  <tbody>\n",
       "    <tr>\n",
       "      <th>0</th>\n",
       "      <td>0.0</td>\n",
       "    </tr>\n",
       "    <tr>\n",
       "      <th>1</th>\n",
       "      <td>0.5</td>\n",
       "    </tr>\n",
       "    <tr>\n",
       "      <th>2</th>\n",
       "      <td>1.0</td>\n",
       "    </tr>\n",
       "    <tr>\n",
       "      <th>3</th>\n",
       "      <td>0.0</td>\n",
       "    </tr>\n",
       "    <tr>\n",
       "      <th>4</th>\n",
       "      <td>0.5</td>\n",
       "    </tr>\n",
       "    <tr>\n",
       "      <th>...</th>\n",
       "      <td>...</td>\n",
       "    </tr>\n",
       "    <tr>\n",
       "      <th>93291</th>\n",
       "      <td>0.0</td>\n",
       "    </tr>\n",
       "    <tr>\n",
       "      <th>93292</th>\n",
       "      <td>0.5</td>\n",
       "    </tr>\n",
       "    <tr>\n",
       "      <th>93293</th>\n",
       "      <td>1.0</td>\n",
       "    </tr>\n",
       "    <tr>\n",
       "      <th>93294</th>\n",
       "      <td>0.0</td>\n",
       "    </tr>\n",
       "    <tr>\n",
       "      <th>93295</th>\n",
       "      <td>0.5</td>\n",
       "    </tr>\n",
       "  </tbody>\n",
       "</table>\n",
       "<p>93296 rows × 1 columns</p>\n",
       "</div>"
      ],
      "text/plain": [
       "       Y_PRED\n",
       "0         0.0\n",
       "1         0.5\n",
       "2         1.0\n",
       "3         0.0\n",
       "4         0.5\n",
       "...       ...\n",
       "93291     0.0\n",
       "93292     0.5\n",
       "93293     1.0\n",
       "93294     0.0\n",
       "93295     0.5\n",
       "\n",
       "[93296 rows x 1 columns]"
      ]
     },
     "execution_count": 45,
     "metadata": {},
     "output_type": "execute_result"
    }
   ],
   "source": [
    "sample_prediction"
   ]
  },
  {
   "cell_type": "code",
   "execution_count": 46,
   "metadata": {},
   "outputs": [
    {
     "data": {
      "text/html": [
       "<div>\n",
       "<style scoped>\n",
       "    .dataframe tbody tr th:only-of-type {\n",
       "        vertical-align: middle;\n",
       "    }\n",
       "\n",
       "    .dataframe tbody tr th {\n",
       "        vertical-align: top;\n",
       "    }\n",
       "\n",
       "    .dataframe thead th {\n",
       "        text-align: right;\n",
       "    }\n",
       "</style>\n",
       "<table border=\"1\" class=\"dataframe\">\n",
       "  <thead>\n",
       "    <tr style=\"text-align: right;\">\n",
       "      <th></th>\n",
       "      <th>Y_PRED</th>\n",
       "    </tr>\n",
       "  </thead>\n",
       "  <tbody>\n",
       "    <tr>\n",
       "      <th>0</th>\n",
       "      <td>0</td>\n",
       "    </tr>\n",
       "    <tr>\n",
       "      <th>1</th>\n",
       "      <td>1</td>\n",
       "    </tr>\n",
       "    <tr>\n",
       "      <th>2</th>\n",
       "      <td>0</td>\n",
       "    </tr>\n",
       "    <tr>\n",
       "      <th>3</th>\n",
       "      <td>1</td>\n",
       "    </tr>\n",
       "    <tr>\n",
       "      <th>4</th>\n",
       "      <td>0</td>\n",
       "    </tr>\n",
       "    <tr>\n",
       "      <th>5</th>\n",
       "      <td>0</td>\n",
       "    </tr>\n",
       "    <tr>\n",
       "      <th>6</th>\n",
       "      <td>0</td>\n",
       "    </tr>\n",
       "    <tr>\n",
       "      <th>7</th>\n",
       "      <td>0</td>\n",
       "    </tr>\n",
       "    <tr>\n",
       "      <th>8</th>\n",
       "      <td>0</td>\n",
       "    </tr>\n",
       "    <tr>\n",
       "      <th>9</th>\n",
       "      <td>0</td>\n",
       "    </tr>\n",
       "  </tbody>\n",
       "</table>\n",
       "</div>"
      ],
      "text/plain": [
       "   Y_PRED\n",
       "0       0\n",
       "1       1\n",
       "2       0\n",
       "3       1\n",
       "4       0\n",
       "5       0\n",
       "6       0\n",
       "7       0\n",
       "8       0\n",
       "9       0"
      ]
     },
     "execution_count": 46,
     "metadata": {},
     "output_type": "execute_result"
    }
   ],
   "source": [
    "sample_prediction['Y_PRED'] = predict_submission\n",
    "sample_prediction.to_csv('submission.csv', index=False)\n",
    "sample_prediction.head(10)"
   ]
  },
  {
   "cell_type": "code",
   "execution_count": null,
   "metadata": {},
   "outputs": [],
   "source": []
  }
 ],
 "metadata": {
  "kernelspec": {
   "display_name": "Python 3",
   "language": "python",
   "name": "python3"
  },
  "language_info": {
   "codemirror_mode": {
    "name": "ipython",
    "version": 3
   },
   "file_extension": ".py",
   "mimetype": "text/x-python",
   "name": "python",
   "nbconvert_exporter": "python",
   "pygments_lexer": "ipython3",
   "version": "3.8.3"
  }
 },
 "nbformat": 4,
 "nbformat_minor": 4
}
